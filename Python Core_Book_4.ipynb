{
 "cells": [
  {
   "cell_type": "markdown",
   "id": "b306086a",
   "metadata": {},
   "source": [
    "<h1 style=\"color:purple;font-size:40px;\">Regular Expressions(regex)</h1>\n",
    "<br>\n",
    "\n",
    "- It is a tool use to manipulation of string\n",
    "- It is domain specific language(DSL) that is present in library\n",
    "- This can be accessed using `re` module"
   ]
  },
  {
   "cell_type": "markdown",
   "id": "3e6e5859",
   "metadata": {},
   "source": [
    "##  UseFul for\n",
    "\n",
    "- Verifying that strings match a pattern(for instance, that string has the format of an email)\n",
    "- Performing substitutions in a String(such as changing all American spellings to british ones)"
   ]
  },
  {
   "cell_type": "markdown",
   "id": "e1bc8427",
   "metadata": {},
   "source": [
    "#  Basic Methods"
   ]
  },
  {
   "cell_type": "markdown",
   "id": "11373d6e",
   "metadata": {},
   "source": [
    "\n",
    "`re.match` function can used to determine whether it matches at the beginning of string"
   ]
  },
  {
   "cell_type": "code",
   "execution_count": 2,
   "id": "37bd805f",
   "metadata": {},
   "outputs": [
    {
     "name": "stdout",
     "output_type": "stream",
     "text": [
      "Match\n"
     ]
    }
   ],
   "source": [
    "import re\n",
    "pattern=r\"spam\"  # This r stand for Raw string\n",
    "if re.match(pattern,\"spamspamspam\"):\n",
    "    print(\"Match\")\n",
    "else:\n",
    "    print(\"Not Match\")"
   ]
  },
  {
   "cell_type": "markdown",
   "id": "e9170818",
   "metadata": {},
   "source": [
    "- The function `re.search` finds a match of a pattern anywhere in the string\n",
    "- The function `re.findall` returns a list of all substring that match a pattern"
   ]
  },
  {
   "cell_type": "code",
   "execution_count": 3,
   "id": "7b5c09f7",
   "metadata": {},
   "outputs": [
    {
     "name": "stdout",
     "output_type": "stream",
     "text": [
      "False\n"
     ]
    }
   ],
   "source": [
    "import re\n",
    "pattern=r\"spam\"\n",
    "if re.match(pattern,\"eggspamespam\"):\n",
    "    print(True)\n",
    "else:\n",
    "    print(False)"
   ]
  },
  {
   "cell_type": "code",
   "execution_count": 5,
   "id": "f96bcf1f",
   "metadata": {},
   "outputs": [
    {
     "name": "stdout",
     "output_type": "stream",
     "text": [
      "True\n"
     ]
    }
   ],
   "source": [
    "if re.search(pattern,'eggspamespam'):\n",
    "    print(True)\n",
    "else:\n",
    "    print(False)"
   ]
  },
  {
   "cell_type": "code",
   "execution_count": 6,
   "id": "b8da6899",
   "metadata": {},
   "outputs": [
    {
     "name": "stdout",
     "output_type": "stream",
     "text": [
      "['spam', 'spam']\n"
     ]
    }
   ],
   "source": [
    "print(re.findall(pattern,'eggspamespam'))"
   ]
  },
  {
   "cell_type": "markdown",
   "id": "f2f813e7",
   "metadata": {},
   "source": [
    "### Regex Methods\n",
    "\n",
    "- group :- return the string matched\n",
    "- start and end :- return start & ending position of first match\n",
    "- span :- return start & end position of first match as a tuple"
   ]
  },
  {
   "cell_type": "code",
   "execution_count": 9,
   "id": "ea478e22",
   "metadata": {},
   "outputs": [
    {
     "name": "stdout",
     "output_type": "stream",
     "text": [
      "pam\n",
      "4\n",
      "7\n",
      "(4, 7)\n"
     ]
    }
   ],
   "source": [
    "p=r'pam'\n",
    "m=re.search(p,'eggspamsaisagepam')\n",
    "if m:\n",
    "    print(m.group())\n",
    "    print(m.start())\n",
    "    print(m.end())\n",
    "    print(m.span())"
   ]
  },
  {
   "cell_type": "markdown",
   "id": "23767f1b",
   "metadata": {},
   "source": [
    "Search and replace with `re.sub` method"
   ]
  },
  {
   "cell_type": "code",
   "execution_count": 10,
   "id": "f0801c4a",
   "metadata": {},
   "outputs": [
    {
     "name": "stdout",
     "output_type": "stream",
     "text": [
      "My name is Muin Momin, hi Muin\n"
     ]
    }
   ],
   "source": [
    "x=\"My name is Monis Momin, hi Monis\"\n",
    "p=r'Monis'\n",
    "n=re.sub(p,'Muin',x)\n",
    "print(n)"
   ]
  },
  {
   "cell_type": "markdown",
   "id": "178d2fc2",
   "metadata": {},
   "source": [
    "We can do same it previous method\n"
   ]
  },
  {
   "cell_type": "code",
   "execution_count": 11,
   "id": "6a53db2c",
   "metadata": {},
   "outputs": [
    {
     "name": "stdout",
     "output_type": "stream",
     "text": [
      "My name is Muin Momin, hi Muin\n"
     ]
    }
   ],
   "source": [
    "x=\"My name is Monis Momin, hi Monis\"\n",
    "print(x.replace(\"Monis\",'Muin'))"
   ]
  },
  {
   "cell_type": "markdown",
   "id": "f4fbca49",
   "metadata": {},
   "source": [
    "# Metacharacters:-\n",
    "\n",
    "- It make regex more powerful than normal string\n",
    "- Raw String :-  Normal String with an `r` infront of it"
   ]
  },
  {
   "cell_type": "markdown",
   "id": "5a044a9c",
   "metadata": {},
   "source": [
    "##  1) Metacharacter =  `  .  ` (Dot)\n",
    "\n",
    "- It can matches any character but not new line\n",
    "- Number of dot(` . `) represents, number of character should be get match"
   ]
  },
  {
   "cell_type": "code",
   "execution_count": 15,
   "id": "164a70a4",
   "metadata": {},
   "outputs": [
    {
     "name": "stdout",
     "output_type": "stream",
     "text": [
      "match 1\n",
      "match 2\n",
      "match 5\n"
     ]
    }
   ],
   "source": [
    "import re\n",
    "p=r\"gr.y\"\n",
    "q=r\"gr....y\"\n",
    "if re.match(p,'grey'):\n",
    "    print(\"match 1\")\n",
    "if re.match(p,'gray'):\n",
    "    print('match 2')\n",
    "if re.match(p,'blue'):\n",
    "    print(\"match 3\")\n",
    "if re.match(p,'grbluey'):\n",
    "    print('match 4')\n",
    "if re.match(q,'grbluey'):\n",
    "    print('match 5')"
   ]
  },
  {
   "cell_type": "markdown",
   "id": "117c81b7",
   "metadata": {},
   "source": [
    "##  2) Metacharacter = `  ^  `\n",
    "\n",
    "\n",
    "- used to make sure it start with specific letter or word"
   ]
  },
  {
   "cell_type": "markdown",
   "id": "b7830f7c",
   "metadata": {},
   "source": [
    "##  3)  Metacharacter = `  $  ` \n",
    "\n",
    "- used to make sure it end with specific letter or word"
   ]
  },
  {
   "cell_type": "markdown",
   "id": "71e5c97c",
   "metadata": {},
   "source": [
    "It must be start with `g`"
   ]
  },
  {
   "cell_type": "code",
   "execution_count": 20,
   "id": "74155480",
   "metadata": {},
   "outputs": [
    {
     "name": "stdout",
     "output_type": "stream",
     "text": [
      "1 match\n",
      "2 match\n"
     ]
    }
   ],
   "source": [
    "p=r'^gr.y'\n",
    "if re.match(p,'grey'):\n",
    "    print(\"1 match\")\n",
    "if re.match(p,'graya'):\n",
    "    print('2 match')"
   ]
  },
  {
   "cell_type": "markdown",
   "id": "f571671c",
   "metadata": {},
   "source": [
    "It must be end with `y`"
   ]
  },
  {
   "cell_type": "code",
   "execution_count": 21,
   "id": "f3cac64e",
   "metadata": {},
   "outputs": [
    {
     "name": "stdout",
     "output_type": "stream",
     "text": [
      "1 match\n"
     ]
    }
   ],
   "source": [
    "p=r'gr.y$'\n",
    "if re.match(p,'gray'):\n",
    "    print(\"1 match\")\n",
    "if re.match(p,'graya'):\n",
    "    print('2 match')"
   ]
  },
  {
   "cell_type": "markdown",
   "id": "27236e3b",
   "metadata": {},
   "source": [
    "This pattern means `^gr.y$` , it should start with `gr` and should be end with `y`"
   ]
  },
  {
   "cell_type": "markdown",
   "id": "12ef91a1",
   "metadata": {},
   "source": [
    "## 4) Metacharacter = `  *   ` \n",
    "- It mean Zero or more repetitions of previous things"
   ]
  },
  {
   "cell_type": "code",
   "execution_count": 4,
   "id": "93000d9f",
   "metadata": {},
   "outputs": [
    {
     "name": "stdout",
     "output_type": "stream",
     "text": [
      "T1\n",
      "T2\n"
     ]
    }
   ],
   "source": [
    "import re\n",
    "p=r\"egg(spam)*\"\n",
    "if re.match(p,'egg'):\n",
    "    print(\"T1\")\n",
    "if re.match(p,'eggspamspamegg'):\n",
    "    print(\"T2\")\n",
    "if re.match(p,'spam'):\n",
    "    print(\"T3\")"
   ]
  },
  {
   "cell_type": "markdown",
   "id": "4f50ee0c",
   "metadata": {},
   "source": [
    "The example above mathches string that start with `egg` & follow with zero/more `spam`"
   ]
  },
  {
   "cell_type": "markdown",
   "id": "d199231d",
   "metadata": {},
   "source": [
    "## 5)  Metacharacter = `  +  `\n",
    "\n",
    "- It means, one or more repetitions of string\n",
    "- Put `+` symbol infront of string "
   ]
  },
  {
   "cell_type": "code",
   "execution_count": 6,
   "id": "b08aba1e",
   "metadata": {},
   "outputs": [
    {
     "name": "stdout",
     "output_type": "stream",
     "text": [
      "T1\n",
      "T2\n"
     ]
    }
   ],
   "source": [
    "import re\n",
    "p=r\"g+\"\n",
    "if re.match(p,'g'):\n",
    "    print(\"T1\")\n",
    "if re.match(p,'gggggg'):    \n",
    "    print(\"T2\")\n",
    "if re.match(p,'abc'):\n",
    "    print(\"T3\")"
   ]
  },
  {
   "cell_type": "markdown",
   "id": "db16d484",
   "metadata": {},
   "source": [
    "## 6)  Metacharacter = `   ?    `\n",
    "\n",
    "- It mean zero / one repetations\n",
    "- put string in parenthesis & infront of it `?` mark E.g - `(s)?`"
   ]
  },
  {
   "cell_type": "code",
   "execution_count": 10,
   "id": "03007bb1",
   "metadata": {
    "scrolled": true
   },
   "outputs": [
    {
     "name": "stdout",
     "output_type": "stream",
     "text": [
      "T1\n",
      "T2\n"
     ]
    }
   ],
   "source": [
    "import re\n",
    "p=r'ice(-)?cream'\n",
    "if re.match(p,'ice-cream'):\n",
    "    print('T1')\n",
    "if re.match(p,'icecream'):\n",
    "    print(\"T2\")\n",
    "if re.match(p,'sausages'):\n",
    "    print(\"T3\")\n",
    "if re.match(p,'ice--cream'):\n",
    "    print(\"T4\")"
   ]
  },
  {
   "cell_type": "markdown",
   "id": "ab400194",
   "metadata": {},
   "source": [
    "## 7) Metacharacter = `  {}  `\n",
    "\n",
    "- It means number of repetation between 2 numbers\n",
    "- The regex `{x,y}` means between x & y repetition of somethings\n",
    "- If first number is missing, it is taken to be zero\n",
    "- If second number is missing, it is taken to be infinity\n",
    "\n",
    "\n",
    "### We can use above Metacharacter in  the form of this Metacharacter  ..\n",
    "\n",
    "- ` ? ` = {0,1}\n",
    "- ` + ` = {1,}\n",
    "- ` * ` = {0, }  or { }"
   ]
  },
  {
   "cell_type": "code",
   "execution_count": 11,
   "id": "493924e6",
   "metadata": {},
   "outputs": [
    {
     "name": "stdout",
     "output_type": "stream",
     "text": [
      "T1\n",
      "T2\n"
     ]
    }
   ],
   "source": [
    "import re\n",
    "p=r\"g{1,3}$\" # $ it is important otherwise then all condition will be true\n",
    "if re.match(p,'g'):\n",
    "    print(\"T1\")\n",
    "if re.match(p,'ggg'):\n",
    "    print('T2')\n",
    "if re.match(p,'gggg'):\n",
    "    print(\"T3\")"
   ]
  },
  {
   "cell_type": "markdown",
   "id": "5410f7dc",
   "metadata": {},
   "source": [
    "## 8) Metacharacter =  `   |    `\n",
    "\n",
    "- This mean `or`\n",
    "- Eg : `red | blue` i.e either red or blue"
   ]
  },
  {
   "cell_type": "code",
   "execution_count": 33,
   "id": "b9f06b4c",
   "metadata": {},
   "outputs": [
    {
     "name": "stdout",
     "output_type": "stream",
     "text": [
      "T1\n",
      "T2\n"
     ]
    }
   ],
   "source": [
    "import re\n",
    "p=r'gr(a|e)y'\n",
    "if re.match(p,'gray'):\n",
    "    print('T1')\n",
    "if re.match(p,'grey'):\n",
    "    print(\"T2\")\n",
    "if re.match(p,'griy'):\n",
    "    print(\"T3\")"
   ]
  },
  {
   "cell_type": "markdown",
   "id": "9f263e24",
   "metadata": {},
   "source": [
    "#  Character Class\n",
    "\n",
    "- It provide a way to match only one of a specific set of characters \n",
    "- Used by :- Putting the characters it matches inside square braackets"
   ]
  },
  {
   "cell_type": "markdown",
   "id": "49d379a9",
   "metadata": {},
   "source": [
    "It matches the string which contain only  letters `aeiou`"
   ]
  },
  {
   "cell_type": "code",
   "execution_count": 22,
   "id": "d4c2bb4c",
   "metadata": {},
   "outputs": [
    {
     "name": "stdout",
     "output_type": "stream",
     "text": [
      "m1\n",
      "m2\n"
     ]
    }
   ],
   "source": [
    "import re\n",
    "p=r'[aeiou]'\n",
    "if re.search(p,\"grey\"):\n",
    "    print('m1')\n",
    "if re.search(p,\"gwertyuiop\"):\n",
    "    print(\"m2\")\n",
    "if re.search(p,\"rhythm myths\"):\n",
    "    print('m3')\n"
   ]
  },
  {
   "cell_type": "markdown",
   "id": "e8eb20b4",
   "metadata": {},
   "source": [
    "##  It can also matches range of characters"
   ]
  },
  {
   "cell_type": "markdown",
   "id": "15875dc8",
   "metadata": {},
   "source": [
    "- [a-z] = matches any lowercase alphabetic character\n",
    "- [G-P] = Matches uppercase alphabetic character form G to P\n",
    "- [0-9] = Matches  digitd from 0 to 9"
   ]
  },
  {
   "cell_type": "code",
   "execution_count": 35,
   "id": "2cb1ef4e",
   "metadata": {},
   "outputs": [
    {
     "name": "stdout",
     "output_type": "stream",
     "text": [
      "T1\n",
      "T3\n"
     ]
    }
   ],
   "source": [
    "import re\n",
    "p=r\"[A-Z][A-Z][0-9]\"\n",
    "if re.search(p,'LS8'):\n",
    "    print(\"T1\")\n",
    "if re.search(p,\"E3\"):\n",
    "    print(\"T2\")\n",
    "if re.search(p,\"EAC42\"):\n",
    "    print(\"T3\")\n",
    "if re.search(p,\"1ab\"):\n",
    "    print(\"T4\")\n",
    "if re.search(p,\"Aa9\"):\n",
    "    print('T5')"
   ]
  },
  {
   "cell_type": "markdown",
   "id": "bb5245ec",
   "metadata": {},
   "source": [
    "Above code only matches 3 letter words i.e 1=capital 2= capital 3= number"
   ]
  },
  {
   "cell_type": "markdown",
   "id": "4a3df213",
   "metadata": {},
   "source": [
    "For all mix character"
   ]
  },
  {
   "cell_type": "code",
   "execution_count": 36,
   "id": "c48d4feb",
   "metadata": {},
   "outputs": [
    {
     "name": "stdout",
     "output_type": "stream",
     "text": [
      "True\n"
     ]
    }
   ],
   "source": [
    "import re\n",
    "p=r'[A-Za-z0-9]'\n",
    "if re.search(p,\"Abfdasfkjsdf23ndsA\"):\n",
    "    print(True)"
   ]
  },
  {
   "cell_type": "markdown",
   "id": "db8f669b",
   "metadata": {},
   "source": [
    "# Group\n",
    "\n",
    "- A group can created be surrounding part of regex with parentheses.\n",
    "- A contain of group can be accessed by group function like a call of `group(0)` or `group(1)`\n",
    "- `group(n)` , where n=greather tham zero & return nth group from left\n",
    "- The method `groups()` return all group up from 1"
   ]
  },
  {
   "cell_type": "code",
   "execution_count": 6,
   "id": "cb091149",
   "metadata": {},
   "outputs": [
    {
     "name": "stdout",
     "output_type": "stream",
     "text": [
      "abcdefghi\n",
      "bc\n",
      "de\n",
      "fgh\n",
      "('fgh', 'g')\n",
      "('bc', 'de', 'fgh', 'g')\n"
     ]
    }
   ],
   "source": [
    "import re\n",
    "p=r'a(bc)(de)(f(g)h)i'\n",
    "m=re.match(p,'abcdefghijklmnop')\n",
    "if m:\n",
    "    print(m.group())\n",
    "    print(m.group(1))\n",
    "    print(m.group(2))\n",
    "    print(m.group(3))\n",
    "    print(m.group(3,4))\n",
    "    print(m.groups())"
   ]
  },
  {
   "cell_type": "markdown",
   "id": "9135c327",
   "metadata": {},
   "source": [
    "##                 Group\n",
    "    \n",
    "                |\n",
    "                |\n",
    "                |\n",
    "     -----------------------------   \n",
    "      |                           |\n",
    "    \n",
    "    Named Group             Non-Capturing Group\n",
    "     "
   ]
  },
  {
   "cell_type": "markdown",
   "id": "c7efc4d2",
   "metadata": {},
   "source": [
    "###   1. Named Group\n",
    "\n",
    "- It have fromat `    (?P<name>...)   `  , the P should be capital\n",
    "- where   \"name\" is the name of group & it's content can be accessed by group(name)"
   ]
  },
  {
   "cell_type": "markdown",
   "id": "c8057092",
   "metadata": {},
   "source": [
    "### 2 . Non-Capturing Group\n",
    "\n",
    "- It have format  `   (?: .....)  `\n",
    "- It is not accessible"
   ]
  },
  {
   "cell_type": "markdown",
   "id": "39c2f49a",
   "metadata": {},
   "source": [
    "Eg :"
   ]
  },
  {
   "cell_type": "code",
   "execution_count": 27,
   "id": "73eb0bec",
   "metadata": {},
   "outputs": [
    {
     "name": "stdout",
     "output_type": "stream",
     "text": [
      "abc\n",
      "('abc', 'ghi')\n"
     ]
    }
   ],
   "source": [
    "import re\n",
    "p = r\"(?P<first>abc)(?:def)(ghi)\"\n",
    "m=re.match(p,'abcdefghi')\n",
    "if m:\n",
    "    print(m.group('first'))\n",
    "    print(m.groups())"
   ]
  },
  {
   "cell_type": "markdown",
   "id": "5dbc81bf",
   "metadata": {},
   "source": [
    "# Special Sequences\n",
    "\n",
    "- Written as :- backslash follow by another character.\n"
   ]
  },
  {
   "cell_type": "markdown",
   "id": "18a111a1",
   "metadata": {},
   "source": [
    "<table style=\"width:100%;font-size:20px\">  \n",
    "<tr><th>Special Sequence</th><th>Work</th>\n",
    "<tr><td>\\d</td><td>This match digits</td>\n",
    "<tr><td>\\s</td><td>This match white Space</td></tr>  \n",
    "<tr><td>\\w</td><td>This Matches Word characters(letter)</td></tr>  \n",
    "<tr><td>\\A</td><td>Match the Beginning</td></tr>     \n",
    "<tr><td>\\Z</td><td>Match the End</td></tr>    \n",
    "<tr><td>\\b</td><td>Match the empty string i.e represent boundary between words</td></tr>      \n",
    "<tr><td>\\B</td><td>Match the Empty string anywhere else</td></tr>        \n",
    "</table>    \n",
    "\n",
    "### Special sequence with upper case i.e `\\D`,`\\S`,`\\W` mean the oppsite to lower case version<br>\n",
    "    Eg : `\\D` matches anything that isn't Digit\n"
   ]
  },
  {
   "cell_type": "code",
   "execution_count": 1,
   "id": "d1d988c4",
   "metadata": {},
   "outputs": [
    {
     "name": "stdout",
     "output_type": "stream",
     "text": [
      "T1\n",
      "T4\n"
     ]
    }
   ],
   "source": [
    "import re\n",
    "p=r\"(\\D+\\d)\"\n",
    "if re.match(p,\"hi123!\"):\n",
    "    print(\"T1\")\n",
    "if re.match(p,'123'):\n",
    "    print(\"T2\")\n",
    "if re.match(p,\"!?\"):\n",
    "    print(\"T3\")\n",
    "if re.match(p,'hi,234'):\n",
    "    print(\"T4\")"
   ]
  },
  {
   "cell_type": "markdown",
   "id": "d6b1237a",
   "metadata": {},
   "source": [
    "This syntax `\\bcat\\b` matches the word surrounded by word boundaries"
   ]
  },
  {
   "cell_type": "code",
   "execution_count": 2,
   "id": "1bbe1a2e",
   "metadata": {},
   "outputs": [
    {
     "name": "stdout",
     "output_type": "stream",
     "text": [
      "T1\n",
      "T2\n"
     ]
    }
   ],
   "source": [
    "import re\n",
    "p=r\"\\b(cat)\\b\"\n",
    "if re.search(p,\"the cat sat!\"):\n",
    "    print(\"T1\")\n",
    "if re.search(p,'We s>cat<tered?'):\n",
    "    print(\"T2\")\n",
    "if re.search(p,\"We scatted\"):\n",
    "    print(\"T3\")\n",
    "if re.search(p,\"wescatted\"):\n",
    "    print(\"T4\")\n",
    "    "
   ]
  },
  {
   "cell_type": "markdown",
   "id": "1f291a39",
   "metadata": {},
   "source": [
    "# Email Extraction\n",
    "\n",
    "- Here we will learn to extract email address from string\n",
    "\n",
    "- pattern : `r \"([\\w\\.-]+)@([\\w\\.-]+)(\\.[\\w\\.]+)\" `\n",
    "\n",
    "- `[\\w\\.-]+` = matches one or more word character,dot or dash\n",
    "- Our Regex contain 3 group\n",
    "    - part of email address\n",
    "    - domain name without suffix\n",
    "    - The domain Syntax"
   ]
  },
  {
   "cell_type": "code",
   "execution_count": 6,
   "id": "03951e59",
   "metadata": {},
   "outputs": [
    {
     "name": "stdout",
     "output_type": "stream",
     "text": [
      "info@sololearnh.com\n"
     ]
    }
   ],
   "source": [
    "import re\n",
    "p=r\"([\\w\\.-]+)@([\\w\\.-]+)(\\.[\\w\\.]+)\"\n",
    "s=\"Please contact info@sololearnh.com for more detail\"\n",
    "m=re.search(p,s)\n",
    "if m:\n",
    "    print(m.group())"
   ]
  },
  {
   "cell_type": "markdown",
   "id": "b4d2709c",
   "metadata": {},
   "source": [
    "If string contain more than 1 email, we can use `findall()` method instead of `search()`"
   ]
  }
 ],
 "metadata": {
  "kernelspec": {
   "display_name": "Python 3 (ipykernel)",
   "language": "python",
   "name": "python3"
  },
  "language_info": {
   "codemirror_mode": {
    "name": "ipython",
    "version": 3
   },
   "file_extension": ".py",
   "mimetype": "text/x-python",
   "name": "python",
   "nbconvert_exporter": "python",
   "pygments_lexer": "ipython3",
   "version": "3.10.7"
  }
 },
 "nbformat": 4,
 "nbformat_minor": 5
}
