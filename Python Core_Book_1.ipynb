{
 "cells": [
  {
   "cell_type": "markdown",
   "id": "4ac49a60",
   "metadata": {},
   "source": [
    "<h1 style=\"font-family: cursive; font-size: 80px; color:blue;\">Index</h1>\n",
    "<br><br>\n",
    "\n",
    "- Walrus operator\n",
    "- Lexicographically Comparsion\n",
    "- Operator Precedence\n",
    "- List \n",
    "- Numpy array\n",
    "- Function as Object\n",
    "- Exception\n",
    "    - Raise\n",
    "    - Assert\n",
    "- File handling\n",
    "- Data Type\n",
    "- Dictionary\n",
    "- Tuple\n",
    "\n"
   ]
  },
  {
   "cell_type": "markdown",
   "id": "04983dd6",
   "metadata": {},
   "source": [
    "# Walrus operator\n",
    "- Take input in different way"
   ]
  },
  {
   "cell_type": "code",
   "execution_count": 3,
   "id": "14f140cf",
   "metadata": {},
   "outputs": [
    {
     "name": "stdout",
     "output_type": "stream",
     "text": [
      "Enter the number 3\n",
      "3\n"
     ]
    }
   ],
   "source": [
    "# Old way\n",
    "num=int(input(\"Enter the number \"))\n",
    "print(num)"
   ]
  },
  {
   "cell_type": "code",
   "execution_count": 4,
   "id": "c6e0195f",
   "metadata": {},
   "outputs": [
    {
     "name": "stdout",
     "output_type": "stream",
     "text": [
      "Enter the number 3\n",
      "3\n"
     ]
    }
   ],
   "source": [
    "# New way\n",
    "print(num:=int(input(\"Enter the number \")))"
   ]
  },
  {
   "cell_type": "markdown",
   "id": "0090892a",
   "metadata": {},
   "source": [
    "# Lexicographically Comparsion\n",
    "- Compare the words in alphabetic order\n",
    "- A is smaller than B\n",
    "- a is greater then A\n",
    "- If the first letter is same then it will check the next letter and so on."
   ]
  },
  {
   "cell_type": "code",
   "execution_count": 5,
   "id": "a71f112e",
   "metadata": {},
   "outputs": [
    {
     "name": "stdout",
     "output_type": "stream",
     "text": [
      "True\n"
     ]
    }
   ],
   "source": [
    "print(\"A\"<\"B\")"
   ]
  },
  {
   "cell_type": "code",
   "execution_count": 11,
   "id": "effb7583",
   "metadata": {},
   "outputs": [
    {
     "name": "stdout",
     "output_type": "stream",
     "text": [
      "True\n"
     ]
    }
   ],
   "source": [
    "print('a'>'A')"
   ]
  },
  {
   "cell_type": "code",
   "execution_count": 12,
   "id": "fa8632f8",
   "metadata": {},
   "outputs": [
    {
     "name": "stdout",
     "output_type": "stream",
     "text": [
      "False\n"
     ]
    }
   ],
   "source": [
    "print(\"Monis\">\"Muin\")"
   ]
  },
  {
   "cell_type": "markdown",
   "id": "0e4062ab",
   "metadata": {},
   "source": [
    "### Q )"
   ]
  },
  {
   "cell_type": "code",
   "execution_count": 13,
   "id": "aa81b884",
   "metadata": {},
   "outputs": [
    {
     "name": "stdout",
     "output_type": "stream",
     "text": [
      "True\n"
     ]
    }
   ],
   "source": [
    "if (1==1) and (2+2>3):\n",
    "    print(True)\n",
    "else:\n",
    "    print(False)"
   ]
  },
  {
   "cell_type": "markdown",
   "id": "d4ca50ef",
   "metadata": {},
   "source": [
    "# Operator Precedence\n",
    "- Like, Muliplication is perform before Addition."
   ]
  },
  {
   "cell_type": "code",
   "execution_count": 14,
   "id": "dfc4e684",
   "metadata": {},
   "outputs": [
    {
     "name": "stdout",
     "output_type": "stream",
     "text": [
      "True\n"
     ]
    }
   ],
   "source": [
    "print(False == False or True)"
   ]
  },
  {
   "cell_type": "code",
   "execution_count": 15,
   "id": "b8ba156b",
   "metadata": {},
   "outputs": [
    {
     "name": "stdout",
     "output_type": "stream",
     "text": [
      "False\n"
     ]
    }
   ],
   "source": [
    "print(False==(False or True))"
   ]
  },
  {
   "cell_type": "code",
   "execution_count": 16,
   "id": "e11f394b",
   "metadata": {},
   "outputs": [
    {
     "name": "stdout",
     "output_type": "stream",
     "text": [
      "True\n"
     ]
    }
   ],
   "source": [
    "print((False == False) or True)"
   ]
  },
  {
   "cell_type": "markdown",
   "id": "6adf4646",
   "metadata": {},
   "source": [
    "### Q )"
   ]
  },
  {
   "cell_type": "code",
   "execution_count": 17,
   "id": "a915eea2",
   "metadata": {},
   "outputs": [
    {
     "name": "stdout",
     "output_type": "stream",
     "text": [
      "No\n"
     ]
    }
   ],
   "source": [
    "if 1+1*3==6:\n",
    "    print(\"Yes\")\n",
    "else:\n",
    "    print(\"No\")"
   ]
  },
  {
   "cell_type": "markdown",
   "id": "bc07f07e",
   "metadata": {},
   "source": [
    "### Q ) "
   ]
  },
  {
   "cell_type": "code",
   "execution_count": 18,
   "id": "3af1d00a",
   "metadata": {},
   "outputs": [
    {
     "name": "stdout",
     "output_type": "stream",
     "text": [
      "False\n"
     ]
    }
   ],
   "source": [
    "x=4\n",
    "y=2\n",
    "if not 1+1==y or x==4 and 7==8:\n",
    "    print(True)\n",
    "elif x>y:\n",
    "    print(False)"
   ]
  },
  {
   "cell_type": "markdown",
   "id": "0c993282",
   "metadata": {},
   "source": [
    "# List"
   ]
  },
  {
   "cell_type": "code",
   "execution_count": 21,
   "id": "c466a81c",
   "metadata": {},
   "outputs": [],
   "source": [
    "x=3\n",
    "h=['string',0,[1,2,x],2]"
   ]
  },
  {
   "cell_type": "code",
   "execution_count": 24,
   "id": "46674397",
   "metadata": {},
   "outputs": [
    {
     "data": {
      "text/plain": [
       "(0, 'string', [1, 2, 3], 3)"
      ]
     },
     "execution_count": 24,
     "metadata": {},
     "output_type": "execute_result"
    }
   ],
   "source": [
    "h[1],h[0],h[2],h[2][2]"
   ]
  },
  {
   "cell_type": "code",
   "execution_count": 25,
   "id": "bbfcc4bc",
   "metadata": {},
   "outputs": [
    {
     "data": {
      "text/plain": [
       "[7, 3, 7, 7]"
      ]
     },
     "execution_count": 25,
     "metadata": {},
     "output_type": "execute_result"
    }
   ],
   "source": [
    "l=[7,7,7,7]\n",
    "l[1]=3\n",
    "l"
   ]
  },
  {
   "cell_type": "markdown",
   "id": "3ee9e917",
   "metadata": {},
   "source": [
    "###  Q )"
   ]
  },
  {
   "cell_type": "code",
   "execution_count": 27,
   "id": "50c51c03",
   "metadata": {},
   "outputs": [
    {
     "name": "stdout",
     "output_type": "stream",
     "text": [
      "7\n"
     ]
    }
   ],
   "source": [
    "num=[10,9,8,7,6,5]\n",
    "num[0]=num[1]-5\n",
    "if 4  in num:\n",
    "    print(num[3])\n",
    "else:\n",
    "    print(num[4])"
   ]
  },
  {
   "cell_type": "markdown",
   "id": "cff4e463",
   "metadata": {},
   "source": [
    "# Numpy array\n",
    "- Array is collection same data_type"
   ]
  },
  {
   "cell_type": "code",
   "execution_count": 29,
   "id": "393bcfde",
   "metadata": {},
   "outputs": [
    {
     "name": "stdout",
     "output_type": "stream",
     "text": [
      "[0 1 2 3 4]\n"
     ]
    }
   ],
   "source": [
    "import numpy as np\n",
    "a=np.arange(5)\n",
    "print(a)"
   ]
  },
  {
   "cell_type": "code",
   "execution_count": 33,
   "id": "b136572b",
   "metadata": {},
   "outputs": [
    {
     "name": "stdout",
     "output_type": "stream",
     "text": [
      "[1. 2. 3.]\n"
     ]
    }
   ],
   "source": [
    "a1=np.array([1,2,3],dtype='float64')\n",
    "print(a1)"
   ]
  },
  {
   "cell_type": "markdown",
   "id": "1c454d2e",
   "metadata": {},
   "source": [
    "Hence Array is collection of same dtype, so it will convert all data into string form."
   ]
  },
  {
   "cell_type": "code",
   "execution_count": 43,
   "id": "822d3b0e",
   "metadata": {},
   "outputs": [
    {
     "data": {
      "text/plain": [
       "array(['1', 'monis', '1.2'], dtype='<U32')"
      ]
     },
     "execution_count": 43,
     "metadata": {},
     "output_type": "execute_result"
    }
   ],
   "source": [
    "a2=np.array([1,'monis',1.2])\n",
    "a2"
   ]
  },
  {
   "cell_type": "code",
   "execution_count": 45,
   "id": "65e993e3",
   "metadata": {},
   "outputs": [
    {
     "data": {
      "text/plain": [
       "array([1, 2, 4])"
      ]
     },
     "execution_count": 45,
     "metadata": {},
     "output_type": "execute_result"
    }
   ],
   "source": [
    "a3=np.array([1,2.3,4.5],dtype=np.int32)\n",
    "a3"
   ]
  },
  {
   "cell_type": "markdown",
   "id": "2e4897e4",
   "metadata": {},
   "source": [
    "# Function as Object"
   ]
  },
  {
   "cell_type": "code",
   "execution_count": 46,
   "id": "efbb7d6c",
   "metadata": {},
   "outputs": [
    {
     "data": {
      "text/plain": [
       "6"
      ]
     },
     "execution_count": 46,
     "metadata": {},
     "output_type": "execute_result"
    }
   ],
   "source": [
    "# Old way\n",
    "\n",
    "def mul(x,y):\n",
    "    return x*y\n",
    "mul(2,3)"
   ]
  },
  {
   "cell_type": "markdown",
   "id": "ed0fb9ad",
   "metadata": {},
   "source": [
    "- The Example below assign the function `mul` to a variable `operation`\n",
    "-  Now the name ` operation ` can also be use to call function"
   ]
  },
  {
   "cell_type": "code",
   "execution_count": 47,
   "id": "5796a40d",
   "metadata": {},
   "outputs": [
    {
     "data": {
      "text/plain": [
       "12"
      ]
     },
     "execution_count": 47,
     "metadata": {},
     "output_type": "execute_result"
    }
   ],
   "source": [
    "# New way\n",
    "\n",
    "def mul(a,b):\n",
    "    return a*b\n",
    "\n",
    "operation=mul\n",
    "operation(3,4)"
   ]
  },
  {
   "cell_type": "markdown",
   "id": "379b492b",
   "metadata": {},
   "source": [
    "###  Function can also used as argument of other function."
   ]
  },
  {
   "cell_type": "code",
   "execution_count": 49,
   "id": "a4739414",
   "metadata": {},
   "outputs": [
    {
     "data": {
      "text/plain": [
       "30"
      ]
     },
     "execution_count": 49,
     "metadata": {},
     "output_type": "execute_result"
    }
   ],
   "source": [
    "def add(x,y):\n",
    "    return x+y\n",
    "def do(fun,x,y):\n",
    "    return fun(fun(x,y),fun(x,y))\n",
    "\n",
    "a=5\n",
    "b=10\n",
    "\n",
    "do(add,a,b)"
   ]
  },
  {
   "cell_type": "markdown",
   "id": "c87cf94c",
   "metadata": {},
   "source": [
    "# Exceptions\n",
    "- It is an Run time error.\n",
    "- Types of Error :-\n",
    "    - import Error\n",
    "    - index Error\n",
    "    - name Error\n",
    "    - Syntax Error\n",
    "    - Type Error\n",
    "    - Value Error"
   ]
  },
  {
   "cell_type": "markdown",
   "id": "f2c0b98f",
   "metadata": {},
   "source": [
    "There are 3 type of block, that used in exception handling\n",
    "- Try\n",
    "- Except\n",
    "- finally\n",
    "\n",
    "Explaination:- \n",
    "\n",
    "* TRY block is used to monitor the code that may/may not be throw an error.\n",
    "* EXCEPT block is used, when exception occure then it will execute.\n",
    "* FINALLY block is used, Exception occure or not it still execute."
   ]
  },
  {
   "cell_type": "code",
   "execution_count": 55,
   "id": "8a86e905",
   "metadata": {},
   "outputs": [
    {
     "name": "stdout",
     "output_type": "stream",
     "text": [
      "3.5\n",
      "Thanks\n"
     ]
    }
   ],
   "source": [
    "try:\n",
    "    print(7/2)\n",
    "except ZeroDivisionError as e :\n",
    "    print(e, \"\\nYou can't divide a number by zero\")\n",
    "finally:\n",
    "    print(\"Thanks\")"
   ]
  },
  {
   "cell_type": "code",
   "execution_count": 54,
   "id": "0780ebb8",
   "metadata": {},
   "outputs": [
    {
     "name": "stdout",
     "output_type": "stream",
     "text": [
      "division by zero \n",
      "You can't divide a number by zero\n",
      "Thanks\n"
     ]
    }
   ],
   "source": [
    "try:\n",
    "    print(7/0)\n",
    "except ZeroDivisionError as e :\n",
    "    print(e, \"\\nYou can't divide a number by zero\")\n",
    "finally:\n",
    "    print(\"Thanks\")"
   ]
  },
  {
   "cell_type": "markdown",
   "id": "0e026fec",
   "metadata": {},
   "source": [
    "We can use multiple `except` block but only 1 `try` block"
   ]
  },
  {
   "cell_type": "code",
   "execution_count": 56,
   "id": "808c3827",
   "metadata": {},
   "outputs": [
    {
     "name": "stdout",
     "output_type": "stream",
     "text": [
      "Alert,  Error!!\n"
     ]
    }
   ],
   "source": [
    "try:\n",
    "    v=3\n",
    "    print(v+\"hello\")\n",
    "    print(v/2)\n",
    "except ZeroDivisionError:\n",
    "    print(\"Cannot divide by zero\")\n",
    "except (ValueError, TypeError):\n",
    "    print(\"Alert,  Error!!\")"
   ]
  },
  {
   "cell_type": "markdown",
   "id": "2027ad96",
   "metadata": {},
   "source": [
    "An ` Except ` statement without any exception specification will catch all Errors."
   ]
  },
  {
   "cell_type": "code",
   "execution_count": 64,
   "id": "fae743b5",
   "metadata": {},
   "outputs": [
    {
     "name": "stdout",
     "output_type": "stream",
     "text": [
      "2.3333333333333335\n",
      "Error!!!\n"
     ]
    }
   ],
   "source": [
    "try:\n",
    "    print(7/3)\n",
    "    print(3+'add')\n",
    "except :\n",
    "    print(\"Error!!!\")"
   ]
  },
  {
   "cell_type": "markdown",
   "id": "0e627365",
   "metadata": {},
   "source": [
    "## Raise Error"
   ]
  },
  {
   "cell_type": "markdown",
   "id": "2a17016a",
   "metadata": {},
   "source": [
    "If we don't specify the type, it will be ` Run time Error `."
   ]
  },
  {
   "cell_type": "code",
   "execution_count": 65,
   "id": "f379f210",
   "metadata": {},
   "outputs": [
    {
     "name": "stdout",
     "output_type": "stream",
     "text": [
      "3\n"
     ]
    },
    {
     "ename": "RuntimeError",
     "evalue": "No active exception to reraise",
     "output_type": "error",
     "traceback": [
      "\u001b[1;31m---------------------------------------------------------------------------\u001b[0m",
      "\u001b[1;31mRuntimeError\u001b[0m                              Traceback (most recent call last)",
      "Cell \u001b[1;32mIn[65], line 2\u001b[0m\n\u001b[0;32m      1\u001b[0m \u001b[38;5;28mprint\u001b[39m(\u001b[38;5;241m3\u001b[39m)\n\u001b[1;32m----> 2\u001b[0m \u001b[38;5;28;01mraise\u001b[39;00m\n\u001b[0;32m      3\u001b[0m \u001b[38;5;28mprint\u001b[39m(\u001b[38;5;241m4\u001b[39m)\n",
      "\u001b[1;31mRuntimeError\u001b[0m: No active exception to reraise"
     ]
    }
   ],
   "source": [
    "print(3)\n",
    "raise\n",
    "print(4)"
   ]
  },
  {
   "cell_type": "markdown",
   "id": "6eeaead6",
   "metadata": {},
   "source": [
    "With type specification"
   ]
  },
  {
   "cell_type": "code",
   "execution_count": 66,
   "id": "11feca2a",
   "metadata": {
    "scrolled": true
   },
   "outputs": [
    {
     "name": "stdout",
     "output_type": "stream",
     "text": [
      "2\n"
     ]
    },
    {
     "ename": "ValueError",
     "evalue": "",
     "output_type": "error",
     "traceback": [
      "\u001b[1;31m---------------------------------------------------------------------------\u001b[0m",
      "\u001b[1;31mValueError\u001b[0m                                Traceback (most recent call last)",
      "Cell \u001b[1;32mIn[66], line 2\u001b[0m\n\u001b[0;32m      1\u001b[0m \u001b[38;5;28mprint\u001b[39m(\u001b[38;5;241m2\u001b[39m)\n\u001b[1;32m----> 2\u001b[0m \u001b[38;5;28;01mraise\u001b[39;00m \u001b[38;5;167;01mValueError\u001b[39;00m\n\u001b[0;32m      3\u001b[0m \u001b[38;5;28mprint\u001b[39m(\u001b[38;5;241m4\u001b[39m)\n",
      "\u001b[1;31mValueError\u001b[0m: "
     ]
    }
   ],
   "source": [
    "print(2)\n",
    "raise ValueError\n",
    "print(4)"
   ]
  },
  {
   "cell_type": "markdown",
   "id": "5aef30c5",
   "metadata": {},
   "source": [
    "With Type and Message Specification."
   ]
  },
  {
   "cell_type": "code",
   "execution_count": 69,
   "id": "8f384aed",
   "metadata": {},
   "outputs": [
    {
     "name": "stdout",
     "output_type": "stream",
     "text": [
      "3\n"
     ]
    },
    {
     "ename": "TypeError",
     "evalue": " You cannot write 3 according to monis ",
     "output_type": "error",
     "traceback": [
      "\u001b[1;31m---------------------------------------------------------------------------\u001b[0m",
      "\u001b[1;31mTypeError\u001b[0m                                 Traceback (most recent call last)",
      "Cell \u001b[1;32mIn[69], line 2\u001b[0m\n\u001b[0;32m      1\u001b[0m \u001b[38;5;28mprint\u001b[39m(\u001b[38;5;241m3\u001b[39m)\n\u001b[1;32m----> 2\u001b[0m \u001b[38;5;28;01mraise\u001b[39;00m \u001b[38;5;167;01mTypeError\u001b[39;00m(\u001b[38;5;124m'\u001b[39m\u001b[38;5;124m You cannot write 3 according to monis \u001b[39m\u001b[38;5;124m'\u001b[39m)\n\u001b[0;32m      3\u001b[0m \u001b[38;5;28mprint\u001b[39m(\u001b[38;5;241m5\u001b[39m)\n",
      "\u001b[1;31mTypeError\u001b[0m:  You cannot write 3 according to monis "
     ]
    }
   ],
   "source": [
    "print(3)\n",
    "raise TypeError(' You cannot write 3 according to monis ')\n",
    "print(5)"
   ]
  },
  {
   "cell_type": "markdown",
   "id": "78cf16df",
   "metadata": {},
   "source": [
    "## Assertions\n",
    "- It is like conditional satament."
   ]
  },
  {
   "cell_type": "code",
   "execution_count": 70,
   "id": "f36a549c",
   "metadata": {},
   "outputs": [
    {
     "name": "stdout",
     "output_type": "stream",
     "text": [
      "0\n",
      "1\n"
     ]
    }
   ],
   "source": [
    "try:\n",
    "    print(0)\n",
    "    assert 2==2\n",
    "    print(1)\n",
    "except:\n",
    "    print(3)"
   ]
  },
  {
   "cell_type": "code",
   "execution_count": 74,
   "id": "8db6efcb",
   "metadata": {},
   "outputs": [
    {
     "name": "stdout",
     "output_type": "stream",
     "text": [
      "0\n"
     ]
    },
    {
     "ename": "AssertionError",
     "evalue": "",
     "output_type": "error",
     "traceback": [
      "\u001b[1;31m---------------------------------------------------------------------------\u001b[0m",
      "\u001b[1;31mAssertionError\u001b[0m                            Traceback (most recent call last)",
      "Cell \u001b[1;32mIn[74], line 2\u001b[0m\n\u001b[0;32m      1\u001b[0m \u001b[38;5;28mprint\u001b[39m(\u001b[38;5;241m0\u001b[39m)\n\u001b[1;32m----> 2\u001b[0m \u001b[38;5;28;01massert\u001b[39;00m \u001b[38;5;241m2\u001b[39m\u001b[38;5;241m==\u001b[39m\u001b[38;5;241m3\u001b[39m\n\u001b[0;32m      3\u001b[0m \u001b[38;5;28mprint\u001b[39m(\u001b[38;5;241m1\u001b[39m)\n",
      "\u001b[1;31mAssertionError\u001b[0m: "
     ]
    }
   ],
   "source": [
    "print(0)\n",
    "assert 2==3\n",
    "print(1)\n",
    "   "
   ]
  },
  {
   "cell_type": "code",
   "execution_count": 75,
   "id": "026b0b7f",
   "metadata": {},
   "outputs": [
    {
     "name": "stdout",
     "output_type": "stream",
     "text": [
      "0\n",
      "3\n"
     ]
    }
   ],
   "source": [
    "try:\n",
    "    print(0)\n",
    "    assert 2==3\n",
    "    print(2)\n",
    "except:\n",
    "    print(3)"
   ]
  },
  {
   "cell_type": "markdown",
   "id": "683f3271",
   "metadata": {},
   "source": [
    "# File Handling\n",
    "\n",
    "\n",
    "| Mode | Function |\n",
    "| -------| ---------| \n",
    "| w | For Writing in File |\n",
    "| r | For Reading from File |\n",
    "| a | For Adding in File |\n",
    "| b | It is used for non-text file,like image or sounds |\n",
    "\n",
    "- After opening of File, we have to make sure to Close it."
   ]
  },
  {
   "cell_type": "code",
   "execution_count": 80,
   "id": "7cb4d2b8",
   "metadata": {},
   "outputs": [
    {
     "name": "stdout",
     "output_type": "stream",
     "text": [
      "<_io.TextIOWrapper name='file' mode='r' encoding='cp1252'>\n"
     ]
    }
   ],
   "source": [
    "f=open(\"file\",'r')\n",
    "print(f)\n",
    "f.close()"
   ]
  },
  {
   "cell_type": "markdown",
   "id": "b468e2a9",
   "metadata": {},
   "source": [
    "##  Reading File"
   ]
  },
  {
   "cell_type": "code",
   "execution_count": 82,
   "id": "5fab5115",
   "metadata": {},
   "outputs": [
    {
     "name": "stdout",
     "output_type": "stream",
     "text": [
      "Hey I am monis Monis\n",
      "I am going to be a great programmer in this world as ever know!\n",
      "and i am kind of introvert person. \n"
     ]
    }
   ],
   "source": [
    "f=open(\"file1\",'r')\n",
    "c=f.read()\n",
    "print(c)\n",
    "f.close()"
   ]
  },
  {
   "cell_type": "code",
   "execution_count": 84,
   "id": "ca0fd8a8",
   "metadata": {},
   "outputs": [
    {
     "name": "stdout",
     "output_type": "stream",
     "text": [
      "Hey I am moni\n",
      "s M\n",
      "onis\n",
      "I am going to be a great programmer in this world as ever know!\n",
      "and i am kind of introvert person. \n"
     ]
    }
   ],
   "source": [
    "f=open('file1','r')\n",
    "print(f.read(13))\n",
    "print(f.read(3))\n",
    "print(f.read())\n",
    "f.close()"
   ]
  },
  {
   "cell_type": "markdown",
   "id": "397f06db",
   "metadata": {},
   "source": [
    "#### readline() Method-\n",
    "- To read an line from file"
   ]
  },
  {
   "cell_type": "code",
   "execution_count": 86,
   "id": "b14d8895",
   "metadata": {},
   "outputs": [
    {
     "name": "stdout",
     "output_type": "stream",
     "text": [
      "Hey I am monis Monis\n",
      "\n"
     ]
    }
   ],
   "source": [
    "f=open('file1','r')\n",
    "print(f.readline())\n",
    "f.close()"
   ]
  },
  {
   "cell_type": "markdown",
   "id": "c6120771",
   "metadata": {},
   "source": [
    "#### We can use Loop also."
   ]
  },
  {
   "cell_type": "code",
   "execution_count": 90,
   "id": "e6d74b7a",
   "metadata": {},
   "outputs": [
    {
     "name": "stdout",
     "output_type": "stream",
     "text": [
      "Hey I am monis Monis\n",
      "\n",
      "I am going to be a great programmer in this world as ever know!\n",
      "\n",
      "and i am kind of introvert person. \n"
     ]
    }
   ],
   "source": [
    "f=open('file1','r')\n",
    "for i in f:\n",
    "    print(i)"
   ]
  },
  {
   "cell_type": "markdown",
   "id": "7b47cd24",
   "metadata": {},
   "source": [
    "## Write File \n",
    "- It will create a file, if it does not already exsist.\n",
    "- If file exsist, then i will erase all data and new data is get written.\n",
    "- If we have to persevere previous data, then we have to use `a i.e append mode `.\n",
    "- If we open file in write mode and immediately close, then the file contents are deleted."
   ]
  },
  {
   "cell_type": "code",
   "execution_count": 91,
   "id": "32e94617",
   "metadata": {},
   "outputs": [],
   "source": [
    "f=open(\"newfile\",'w')\n",
    "f.write(\"This is what is going to get written in File\")\n",
    "f.close()"
   ]
  },
  {
   "cell_type": "code",
   "execution_count": 92,
   "id": "dfe85795",
   "metadata": {},
   "outputs": [
    {
     "data": {
      "text/plain": [
       "'This is what is going to get written in File'"
      ]
     },
     "execution_count": 92,
     "metadata": {},
     "output_type": "execute_result"
    }
   ],
   "source": [
    "f=open('newfile','r')\n",
    "f.read()"
   ]
  },
  {
   "cell_type": "markdown",
   "id": "f08944cf",
   "metadata": {},
   "source": [
    "To count the letter we have written\n"
   ]
  },
  {
   "cell_type": "code",
   "execution_count": 93,
   "id": "cd06ae90",
   "metadata": {},
   "outputs": [
    {
     "name": "stdout",
     "output_type": "stream",
     "text": [
      "11\n"
     ]
    }
   ],
   "source": [
    "msg=\"Hello world\"\n",
    "f=open('newfile10','w')\n",
    "count=f.write(msg)\n",
    "print(count)\n",
    "f.close()"
   ]
  },
  {
   "cell_type": "code",
   "execution_count": 96,
   "id": "9002f8fa",
   "metadata": {},
   "outputs": [
    {
     "name": "stdout",
     "output_type": "stream",
     "text": [
      "Hello world\n"
     ]
    }
   ],
   "source": [
    "f=open('newfile10','r')\n",
    "print(f.read())\n",
    "f.close()"
   ]
  },
  {
   "cell_type": "markdown",
   "id": "174c3412",
   "metadata": {},
   "source": [
    "**Good Way of File Handling**\n",
    "- It make sure file get closed."
   ]
  },
  {
   "cell_type": "code",
   "execution_count": 97,
   "id": "63f8668b",
   "metadata": {},
   "outputs": [
    {
     "name": "stdout",
     "output_type": "stream",
     "text": [
      "Hey I am m\n"
     ]
    }
   ],
   "source": [
    "try:\n",
    "    f=open('file1','r')\n",
    "    print(f.read(10))\n",
    "finally:\n",
    "    f.close"
   ]
  },
  {
   "cell_type": "markdown",
   "id": "d3441fde",
   "metadata": {},
   "source": [
    "### Alternative way of File handling\n",
    "- By using ` with ` and ` as ` statement.\n",
    "- This will close file automatically"
   ]
  },
  {
   "cell_type": "code",
   "execution_count": 98,
   "id": "16a30ce9",
   "metadata": {},
   "outputs": [
    {
     "name": "stdout",
     "output_type": "stream",
     "text": [
      "Hey I am monis Monis\n",
      "I am going to be a great programmer in this world as ever know!\n",
      "and i am kind of introvert person. \n"
     ]
    }
   ],
   "source": [
    "with open('file1','r') as f:\n",
    "    print(f.read())"
   ]
  },
  {
   "cell_type": "markdown",
   "id": "027e14bd",
   "metadata": {},
   "source": [
    "# Data Type"
   ]
  },
  {
   "cell_type": "code",
   "execution_count": 100,
   "id": "2c834d9d",
   "metadata": {},
   "outputs": [
    {
     "data": {
      "text/plain": [
       "(float, int)"
      ]
     },
     "execution_count": 100,
     "metadata": {},
     "output_type": "execute_result"
    }
   ],
   "source": [
    "a=2.5\n",
    "b=2\n",
    "type(a),type(b)"
   ]
  },
  {
   "cell_type": "code",
   "execution_count": 110,
   "id": "54470f27",
   "metadata": {},
   "outputs": [
    {
     "data": {
      "text/plain": [
       "str"
      ]
     },
     "execution_count": 110,
     "metadata": {},
     "output_type": "execute_result"
    }
   ],
   "source": [
    "s='Monis'\n",
    "type(s)"
   ]
  },
  {
   "cell_type": "code",
   "execution_count": 108,
   "id": "ef61968a",
   "metadata": {},
   "outputs": [
    {
     "name": "stdout",
     "output_type": "stream",
     "text": [
      "(2+3j)\n",
      "<class 'complex'>\n"
     ]
    }
   ],
   "source": [
    "# Here we can used only \"J\" varibale\n",
    "x=2+3j\n",
    "print(x)\n",
    "print(type(x))"
   ]
  },
  {
   "cell_type": "code",
   "execution_count": 109,
   "id": "e37709d6",
   "metadata": {},
   "outputs": [
    {
     "name": "stdout",
     "output_type": "stream",
     "text": [
      "(3+4j)\n"
     ]
    }
   ],
   "source": [
    "a=3\n",
    "b=4\n",
    "print(complex(a,b))"
   ]
  },
  {
   "cell_type": "markdown",
   "id": "c8cba896",
   "metadata": {},
   "source": [
    "# Dictionary"
   ]
  },
  {
   "cell_type": "code",
   "execution_count": 111,
   "id": "47d9f45c",
   "metadata": {},
   "outputs": [
    {
     "name": "stdout",
     "output_type": "stream",
     "text": [
      "{1: 'monis', 2: 'muin', 3: 'jishan_bhaiya'}\n"
     ]
    }
   ],
   "source": [
    "d={1:'monis',2:'muin',3:'jishan_bhaiya'}\n",
    "print(d)"
   ]
  },
  {
   "cell_type": "markdown",
   "id": "528eec1c",
   "metadata": {},
   "source": [
    "To add in dictionary"
   ]
  },
  {
   "cell_type": "code",
   "execution_count": 113,
   "id": "c7b3945f",
   "metadata": {},
   "outputs": [
    {
     "name": "stdout",
     "output_type": "stream",
     "text": [
      "{1: 'monis', 2: 'muin', 3: 'jishan_bhaiya', 4: 'Asad'}\n"
     ]
    }
   ],
   "source": [
    "d[4]=\"Asad\"\n",
    "print(d)"
   ]
  },
  {
   "cell_type": "markdown",
   "id": "c360f9ca",
   "metadata": {},
   "source": [
    "To form dict from 2 list\n"
   ]
  },
  {
   "cell_type": "code",
   "execution_count": 123,
   "id": "5d814bbf",
   "metadata": {},
   "outputs": [
    {
     "data": {
      "text/plain": [
       "{'monis': 21, 'muin': 43}"
      ]
     },
     "execution_count": 123,
     "metadata": {},
     "output_type": "execute_result"
    }
   ],
   "source": [
    "k=[\"monis\",\"muin\"]\n",
    "v=[21,43]\n",
    "m=dict(zip(k,v))\n",
    "m"
   ]
  },
  {
   "cell_type": "code",
   "execution_count": 115,
   "id": "fd885f18",
   "metadata": {},
   "outputs": [
    {
     "data": {
      "text/plain": [
       "21"
      ]
     },
     "execution_count": 115,
     "metadata": {},
     "output_type": "execute_result"
    }
   ],
   "source": [
    "m['monis']"
   ]
  },
  {
   "cell_type": "code",
   "execution_count": 117,
   "id": "fa53fa4f",
   "metadata": {},
   "outputs": [
    {
     "data": {
      "text/plain": [
       "dict_keys(['monis', 'muin'])"
      ]
     },
     "execution_count": 117,
     "metadata": {},
     "output_type": "execute_result"
    }
   ],
   "source": [
    "m.keys()"
   ]
  },
  {
   "cell_type": "code",
   "execution_count": 118,
   "id": "eb20c156",
   "metadata": {},
   "outputs": [
    {
     "data": {
      "text/plain": [
       "dict_values([21, 43])"
      ]
     },
     "execution_count": 118,
     "metadata": {},
     "output_type": "execute_result"
    }
   ],
   "source": [
    "m.values()"
   ]
  },
  {
   "cell_type": "code",
   "execution_count": 119,
   "id": "872f2538",
   "metadata": {},
   "outputs": [
    {
     "data": {
      "text/plain": [
       "dict_items([('monis', 21), ('muin', 43)])"
      ]
     },
     "execution_count": 119,
     "metadata": {},
     "output_type": "execute_result"
    }
   ],
   "source": [
    "m.items()"
   ]
  },
  {
   "cell_type": "markdown",
   "id": "c5189dfc",
   "metadata": {},
   "source": [
    "To remove an Element, we use `del` or `pop`"
   ]
  },
  {
   "cell_type": "code",
   "execution_count": 124,
   "id": "4a3d22d7",
   "metadata": {},
   "outputs": [
    {
     "data": {
      "text/plain": [
       "{'monis': 21}"
      ]
     },
     "execution_count": 124,
     "metadata": {},
     "output_type": "execute_result"
    }
   ],
   "source": [
    "del m['muin']\n",
    "m"
   ]
  },
  {
   "cell_type": "code",
   "execution_count": 127,
   "id": "485b7c39",
   "metadata": {},
   "outputs": [
    {
     "data": {
      "text/plain": [
       "{}"
      ]
     },
     "execution_count": 127,
     "metadata": {},
     "output_type": "execute_result"
    }
   ],
   "source": [
    "m.pop('monis')\n",
    "m"
   ]
  },
  {
   "cell_type": "code",
   "execution_count": 128,
   "id": "d927decf",
   "metadata": {},
   "outputs": [
    {
     "data": {
      "text/plain": [
       "{1: 'monis', 2: 'muin', 3: 'jishan_bhaiya', 4: 'Asad'}"
      ]
     },
     "execution_count": 128,
     "metadata": {},
     "output_type": "execute_result"
    }
   ],
   "source": [
    "d"
   ]
  },
  {
   "cell_type": "markdown",
   "id": "bfbd0e7f",
   "metadata": {},
   "source": [
    "To delete all, we can use `clear`."
   ]
  },
  {
   "cell_type": "code",
   "execution_count": 129,
   "id": "2983b7d2",
   "metadata": {},
   "outputs": [
    {
     "data": {
      "text/plain": [
       "{}"
      ]
     },
     "execution_count": 129,
     "metadata": {},
     "output_type": "execute_result"
    }
   ],
   "source": [
    "d.clear()\n",
    "d"
   ]
  },
  {
   "cell_type": "markdown",
   "id": "c899852b",
   "metadata": {},
   "source": [
    "We can use 1 key and Value have more dictionary"
   ]
  },
  {
   "cell_type": "code",
   "execution_count": 130,
   "id": "c4609885",
   "metadata": {},
   "outputs": [
    {
     "data": {
      "text/plain": [
       "{1: 'monis', 2: {1: 'one', 2: 'two'}, 3: 'Muin'}"
      ]
     },
     "execution_count": 130,
     "metadata": {},
     "output_type": "execute_result"
    }
   ],
   "source": [
    "d={1:'monis',2:{1:'one',2:'two'},3:'Muin'}\n",
    "d"
   ]
  },
  {
   "cell_type": "code",
   "execution_count": 131,
   "id": "374c2272",
   "metadata": {},
   "outputs": [
    {
     "data": {
      "text/plain": [
       "'monis'"
      ]
     },
     "execution_count": 131,
     "metadata": {},
     "output_type": "execute_result"
    }
   ],
   "source": [
    "d[1]"
   ]
  },
  {
   "cell_type": "code",
   "execution_count": 132,
   "id": "0a3fb07c",
   "metadata": {},
   "outputs": [
    {
     "data": {
      "text/plain": [
       "{1: 'one', 2: 'two'}"
      ]
     },
     "execution_count": 132,
     "metadata": {},
     "output_type": "execute_result"
    }
   ],
   "source": [
    "d[2]"
   ]
  },
  {
   "cell_type": "code",
   "execution_count": 133,
   "id": "68cb407f",
   "metadata": {},
   "outputs": [
    {
     "data": {
      "text/plain": [
       "'one'"
      ]
     },
     "execution_count": 133,
     "metadata": {},
     "output_type": "execute_result"
    }
   ],
   "source": [
    "d[2][1]"
   ]
  },
  {
   "cell_type": "markdown",
   "id": "3f44d1df",
   "metadata": {},
   "source": [
    "We can use get method, If value is present then we get Value or if not then we did't get an Error"
   ]
  },
  {
   "cell_type": "code",
   "execution_count": 136,
   "id": "156628d3",
   "metadata": {},
   "outputs": [
    {
     "data": {
      "text/plain": [
       "{1: 'monis', 2: {1: 'one', 2: 'two'}, 3: 'Muin'}"
      ]
     },
     "execution_count": 136,
     "metadata": {},
     "output_type": "execute_result"
    }
   ],
   "source": [
    "d"
   ]
  },
  {
   "cell_type": "code",
   "execution_count": 135,
   "id": "8adc13d5",
   "metadata": {
    "scrolled": true
   },
   "outputs": [
    {
     "ename": "KeyError",
     "evalue": "4",
     "output_type": "error",
     "traceback": [
      "\u001b[1;31m---------------------------------------------------------------------------\u001b[0m",
      "\u001b[1;31mKeyError\u001b[0m                                  Traceback (most recent call last)",
      "Cell \u001b[1;32mIn[135], line 1\u001b[0m\n\u001b[1;32m----> 1\u001b[0m \u001b[43md\u001b[49m\u001b[43m[\u001b[49m\u001b[38;5;241;43m4\u001b[39;49m\u001b[43m]\u001b[49m\n",
      "\u001b[1;31mKeyError\u001b[0m: 4"
     ]
    }
   ],
   "source": [
    "d[4]"
   ]
  },
  {
   "cell_type": "code",
   "execution_count": 137,
   "id": "0742b710",
   "metadata": {},
   "outputs": [
    {
     "data": {
      "text/plain": [
       "'Muin'"
      ]
     },
     "execution_count": 137,
     "metadata": {},
     "output_type": "execute_result"
    }
   ],
   "source": [
    "d.get(3,'sorry')"
   ]
  },
  {
   "cell_type": "code",
   "execution_count": 139,
   "id": "feebbb4a",
   "metadata": {},
   "outputs": [
    {
     "data": {
      "text/plain": [
       "'sorry'"
      ]
     },
     "execution_count": 139,
     "metadata": {},
     "output_type": "execute_result"
    }
   ],
   "source": [
    "d.get(4,'sorry')"
   ]
  },
  {
   "cell_type": "code",
   "execution_count": 140,
   "id": "28077368",
   "metadata": {},
   "outputs": [],
   "source": [
    "d.get(4) #Nothing happend even i run the code."
   ]
  },
  {
   "cell_type": "markdown",
   "id": "e88ed4be",
   "metadata": {},
   "source": [
    "# Tuple\n",
    "- immutable\n",
    "- Trying to reassign a value will cause an TypeError"
   ]
  },
  {
   "cell_type": "code",
   "execution_count": 141,
   "id": "cfbe7e39",
   "metadata": {},
   "outputs": [
    {
     "data": {
      "text/plain": [
       "(1, 2, 3, 4)"
      ]
     },
     "execution_count": 141,
     "metadata": {},
     "output_type": "execute_result"
    }
   ],
   "source": [
    "x=(1,2,3,4)\n",
    "x"
   ]
  },
  {
   "cell_type": "code",
   "execution_count": 142,
   "id": "9266b29f",
   "metadata": {},
   "outputs": [
    {
     "data": {
      "text/plain": [
       "3"
      ]
     },
     "execution_count": 142,
     "metadata": {},
     "output_type": "execute_result"
    }
   ],
   "source": [
    "x[2]"
   ]
  },
  {
   "cell_type": "code",
   "execution_count": 143,
   "id": "8e55965f",
   "metadata": {},
   "outputs": [
    {
     "ename": "TypeError",
     "evalue": "'tuple' object does not support item assignment",
     "output_type": "error",
     "traceback": [
      "\u001b[1;31m---------------------------------------------------------------------------\u001b[0m",
      "\u001b[1;31mTypeError\u001b[0m                                 Traceback (most recent call last)",
      "Cell \u001b[1;32mIn[143], line 1\u001b[0m\n\u001b[1;32m----> 1\u001b[0m \u001b[43mx\u001b[49m\u001b[43m[\u001b[49m\u001b[38;5;241;43m1\u001b[39;49m\u001b[43m]\u001b[49m\u001b[38;5;241m=\u001b[39m\u001b[38;5;241m2\u001b[39m\n",
      "\u001b[1;31mTypeError\u001b[0m: 'tuple' object does not support item assignment"
     ]
    }
   ],
   "source": [
    "x[1]=2"
   ]
  },
  {
   "cell_type": "markdown",
   "id": "2d064cbd",
   "metadata": {},
   "source": [
    "Tuple can be created without parenthesis."
   ]
  },
  {
   "cell_type": "code",
   "execution_count": 144,
   "id": "41ea4860",
   "metadata": {},
   "outputs": [
    {
     "data": {
      "text/plain": [
       "(1, 2, 3, 4)"
      ]
     },
     "execution_count": 144,
     "metadata": {},
     "output_type": "execute_result"
    }
   ],
   "source": [
    "x=1,2,3,4\n",
    "x"
   ]
  },
  {
   "cell_type": "markdown",
   "id": "c4d65f42",
   "metadata": {},
   "source": [
    "Tuple unpacking"
   ]
  },
  {
   "cell_type": "code",
   "execution_count": 147,
   "id": "4e04ed14",
   "metadata": {},
   "outputs": [],
   "source": [
    "x=(1,2,3,4,5)\n",
    "a,*b,c=x"
   ]
  },
  {
   "cell_type": "code",
   "execution_count": 148,
   "id": "904b07cd",
   "metadata": {},
   "outputs": [
    {
     "data": {
      "text/plain": [
       "1"
      ]
     },
     "execution_count": 148,
     "metadata": {},
     "output_type": "execute_result"
    }
   ],
   "source": [
    "a"
   ]
  },
  {
   "cell_type": "code",
   "execution_count": 151,
   "id": "9cdb1df0",
   "metadata": {},
   "outputs": [
    {
     "data": {
      "text/plain": [
       "[2, 3, 4]"
      ]
     },
     "execution_count": 151,
     "metadata": {},
     "output_type": "execute_result"
    }
   ],
   "source": [
    "b # It form a List"
   ]
  },
  {
   "cell_type": "code",
   "execution_count": 153,
   "id": "75ca4267",
   "metadata": {},
   "outputs": [
    {
     "data": {
      "text/plain": [
       "[10, 3, 4]"
      ]
     },
     "execution_count": 153,
     "metadata": {},
     "output_type": "execute_result"
    }
   ],
   "source": [
    "b[0]=10\n",
    "b"
   ]
  },
  {
   "cell_type": "code",
   "execution_count": 152,
   "id": "403559e0",
   "metadata": {},
   "outputs": [
    {
     "data": {
      "text/plain": [
       "5"
      ]
     },
     "execution_count": 152,
     "metadata": {},
     "output_type": "execute_result"
    }
   ],
   "source": [
    "c"
   ]
  }
 ],
 "metadata": {
  "kernelspec": {
   "display_name": "Python 3 (ipykernel)",
   "language": "python",
   "name": "python3"
  },
  "language_info": {
   "codemirror_mode": {
    "name": "ipython",
    "version": 3
   },
   "file_extension": ".py",
   "mimetype": "text/x-python",
   "name": "python",
   "nbconvert_exporter": "python",
   "pygments_lexer": "ipython3",
   "version": "3.10.7"
  }
 },
 "nbformat": 4,
 "nbformat_minor": 5
}
