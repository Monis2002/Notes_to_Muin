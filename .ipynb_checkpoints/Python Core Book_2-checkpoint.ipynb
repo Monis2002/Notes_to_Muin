{
 "cells": [
  {
   "cell_type": "markdown",
   "id": "79c8265b",
   "metadata": {},
   "source": [
    "<h1 style=\"font-family: cursive; font-size: 80px; color:blue;\">Index</h1>\n",
    "<br><br>\n",
    "\n",
    "- List Comprehension\n",
    "- String Formating\n",
    "- Numeric Function\n",
    "- Use of all, any and enumerate\n",
    "- Functional Programming(Theory)\n",
    "- Lambda\n",
    "    - Map\n",
    "    - Filter\n",
    "- Generators  \n",
    "- Decorators\n",
    "- Recursion\n",
    "- Set"
   ]
  },
  {
   "cell_type": "markdown",
   "id": "5fc02e9c",
   "metadata": {},
   "source": [
    "# List Comprehensions:\n",
    "- We can create a Modifiyed List from exsisting List.\n"
   ]
  },
  {
   "cell_type": "code",
   "execution_count": 1,
   "id": "b9c0c698",
   "metadata": {},
   "outputs": [
    {
     "data": {
      "text/plain": [
       "[0, 1, 2, 3, 4, 5, 6, 7, 8, 9]"
      ]
     },
     "execution_count": 1,
     "metadata": {},
     "output_type": "execute_result"
    }
   ],
   "source": [
    "l=list(range(10))\n",
    "l"
   ]
  },
  {
   "cell_type": "markdown",
   "id": "ce7405f6",
   "metadata": {},
   "source": [
    "To form new List from Exsisting."
   ]
  },
  {
   "cell_type": "code",
   "execution_count": 2,
   "id": "b5866333",
   "metadata": {},
   "outputs": [
    {
     "data": {
      "text/plain": [
       "[0, 1, 8, 27, 64, 125, 216, 343, 512, 729]"
      ]
     },
     "execution_count": 2,
     "metadata": {},
     "output_type": "execute_result"
    }
   ],
   "source": [
    "cube=[i**3 for i in l]\n",
    "cube"
   ]
  },
  {
   "cell_type": "markdown",
   "id": "49a9ba58",
   "metadata": {},
   "source": [
    "With Condtion"
   ]
  },
  {
   "cell_type": "code",
   "execution_count": 3,
   "id": "f2b78483",
   "metadata": {},
   "outputs": [
    {
     "data": {
      "text/plain": [
       "[0, 8, 64, 216, 512]"
      ]
     },
     "execution_count": 3,
     "metadata": {},
     "output_type": "execute_result"
    }
   ],
   "source": [
    "cube_even=[i**3 for i in l if i%2==0]\n",
    "cube_even"
   ]
  },
  {
   "cell_type": "markdown",
   "id": "92ed38d6",
   "metadata": {},
   "source": [
    "Take input, separated by sapce, we can take as many as we want."
   ]
  },
  {
   "cell_type": "code",
   "execution_count": 4,
   "id": "322f8a8a",
   "metadata": {},
   "outputs": [
    {
     "name": "stdout",
     "output_type": "stream",
     "text": [
      "1 2 3 4 5 6 7\n"
     ]
    },
    {
     "data": {
      "text/plain": [
       "['1', '2', '3', '4', '5', '6', '7']"
      ]
     },
     "execution_count": 4,
     "metadata": {},
     "output_type": "execute_result"
    }
   ],
   "source": [
    "l=[i for i in input().split()]\n",
    "l"
   ]
  },
  {
   "cell_type": "markdown",
   "id": "6edde647",
   "metadata": {},
   "source": [
    "**Limitation**\n",
    "- memory Error Occure when we use lot of memory\n",
    "\n",
    "`     [2*i for i in range(10**100)]            `"
   ]
  },
  {
   "cell_type": "markdown",
   "id": "868cb22b",
   "metadata": {},
   "source": [
    "# String Formating"
   ]
  },
  {
   "cell_type": "markdown",
   "id": "0094a45f",
   "metadata": {},
   "source": [
    "Type 1"
   ]
  },
  {
   "cell_type": "code",
   "execution_count": 5,
   "id": "09ed6e85",
   "metadata": {},
   "outputs": [
    {
     "data": {
      "text/plain": [
       "'Numbers are : 4  5  6'"
      ]
     },
     "execution_count": 5,
     "metadata": {},
     "output_type": "execute_result"
    }
   ],
   "source": [
    "num=[4,5,6]\n",
    "msg=\"Numbers are : {0}  {1}  {2}\".format(num[0],num[1],num[2]) \n",
    "msg"
   ]
  },
  {
   "cell_type": "code",
   "execution_count": 6,
   "id": "481b3cde",
   "metadata": {},
   "outputs": [
    {
     "data": {
      "text/plain": [
       "'Numbers are : 5  6  4'"
      ]
     },
     "execution_count": 6,
     "metadata": {},
     "output_type": "execute_result"
    }
   ],
   "source": [
    "num=[4,5,6]\n",
    "msg=\"Numbers are : {1}  {2}  {0}\".format(num[0],num[1],num[2])\n",
    "msg               # This {1},{2},{3} are order"
   ]
  },
  {
   "cell_type": "markdown",
   "id": "0b2bc544",
   "metadata": {},
   "source": [
    "Type 2"
   ]
  },
  {
   "cell_type": "code",
   "execution_count": 7,
   "id": "3253c6cf",
   "metadata": {},
   "outputs": [
    {
     "name": "stdout",
     "output_type": "stream",
     "text": [
      "my name is Monis\n"
     ]
    }
   ],
   "source": [
    "print(\"my name is {}\".format('Monis'))"
   ]
  },
  {
   "cell_type": "markdown",
   "id": "0a719a39",
   "metadata": {},
   "source": [
    "Type 3"
   ]
  },
  {
   "cell_type": "code",
   "execution_count": 8,
   "id": "494ee7e3",
   "metadata": {},
   "outputs": [
    {
     "name": "stdout",
     "output_type": "stream",
     "text": [
      "My name is monis and age is 21\n"
     ]
    }
   ],
   "source": [
    "n=\"monis\"\n",
    "a=21\n",
    "print(f\"My name is {n} and age is {a}\")"
   ]
  },
  {
   "cell_type": "code",
   "execution_count": 9,
   "id": "8d41c521",
   "metadata": {},
   "outputs": [
    {
     "name": "stdout",
     "output_type": "stream",
     "text": [
      "My age is 21.4533\n"
     ]
    }
   ],
   "source": [
    "a=21.4533\n",
    "print(f\"My age is {a}\")"
   ]
  },
  {
   "cell_type": "markdown",
   "id": "e394e806",
   "metadata": {},
   "source": [
    "# Numeric Function\n",
    "\n",
    "- To find min and max function, `min(list) and max(list)`\n",
    "- To find sum of list , ` sum(list)`\n",
    "- To find distance of number from zero use `abs(list)` and distance is never negative."
   ]
  },
  {
   "cell_type": "code",
   "execution_count": 10,
   "id": "13166e18",
   "metadata": {},
   "outputs": [
    {
     "name": "stdout",
     "output_type": "stream",
     "text": [
      "1\n"
     ]
    }
   ],
   "source": [
    "print(min([1,2,3,4]))"
   ]
  },
  {
   "cell_type": "code",
   "execution_count": 11,
   "id": "271bb9f8",
   "metadata": {},
   "outputs": [
    {
     "name": "stdout",
     "output_type": "stream",
     "text": [
      "4\n"
     ]
    }
   ],
   "source": [
    "print(max([1,2,3,4]))"
   ]
  },
  {
   "cell_type": "code",
   "execution_count": 12,
   "id": "27595704",
   "metadata": {},
   "outputs": [
    {
     "name": "stdout",
     "output_type": "stream",
     "text": [
      "10\n"
     ]
    }
   ],
   "source": [
    "print(sum([1,2,3,4]))"
   ]
  },
  {
   "cell_type": "code",
   "execution_count": 13,
   "id": "bc3d4118",
   "metadata": {},
   "outputs": [
    {
     "name": "stdout",
     "output_type": "stream",
     "text": [
      "4\n"
     ]
    }
   ],
   "source": [
    "print(abs(4))"
   ]
  },
  {
   "cell_type": "code",
   "execution_count": 14,
   "id": "54860751",
   "metadata": {},
   "outputs": [
    {
     "name": "stdout",
     "output_type": "stream",
     "text": [
      "4\n"
     ]
    }
   ],
   "source": [
    "print(abs(-4))"
   ]
  },
  {
   "cell_type": "code",
   "execution_count": 15,
   "id": "1c756517",
   "metadata": {},
   "outputs": [
    {
     "name": "stdout",
     "output_type": "stream",
     "text": [
      "15\n"
     ]
    }
   ],
   "source": [
    "l=[1,2,3,4,5]\n",
    "print(sum(l))"
   ]
  },
  {
   "cell_type": "markdown",
   "id": "902c8bca",
   "metadata": {},
   "source": [
    "### Q )"
   ]
  },
  {
   "cell_type": "code",
   "execution_count": 16,
   "id": "04819554",
   "metadata": {},
   "outputs": [
    {
     "name": "stdout",
     "output_type": "stream",
     "text": [
      "30\n"
     ]
    }
   ],
   "source": [
    "print(min([sum([11,22]),max(abs(-30),2)]))"
   ]
  },
  {
   "cell_type": "markdown",
   "id": "d408ee15",
   "metadata": {},
   "source": [
    "# Use of `all`, `any` and `enumerate`"
   ]
  },
  {
   "cell_type": "markdown",
   "id": "1925dbd5",
   "metadata": {},
   "source": [
    "## ` all  `"
   ]
  },
  {
   "cell_type": "code",
   "execution_count": 17,
   "id": "6ac7d40c",
   "metadata": {},
   "outputs": [
    {
     "name": "stdout",
     "output_type": "stream",
     "text": [
      "All are larger than 5\n"
     ]
    }
   ],
   "source": [
    "num=[55,44,33,22,11]\n",
    "if all([i>5 for i in num]):\n",
    "    print(\"All are larger than 5\")\n",
    "else:\n",
    "    print(\"No\")"
   ]
  },
  {
   "cell_type": "markdown",
   "id": "3dae2c91",
   "metadata": {},
   "source": [
    "##  `  any  `"
   ]
  },
  {
   "cell_type": "code",
   "execution_count": 18,
   "id": "ec11e946",
   "metadata": {},
   "outputs": [
    {
     "name": "stdout",
     "output_type": "stream",
     "text": [
      "At least one is even\n"
     ]
    }
   ],
   "source": [
    "num=[55,44,33,22,11]\n",
    "if any([i%2==0 for i in num]):\n",
    "    print(\"At least one is even\")\n",
    "else:\n",
    "    print(\"No\")"
   ]
  },
  {
   "cell_type": "markdown",
   "id": "8686fc8f",
   "metadata": {},
   "source": [
    "## `   enumerate     `"
   ]
  },
  {
   "cell_type": "code",
   "execution_count": 19,
   "id": "96ba4c57",
   "metadata": {},
   "outputs": [
    {
     "name": "stdout",
     "output_type": "stream",
     "text": [
      "(0, 55)\n",
      "(1, 44)\n",
      "(2, 33)\n",
      "(3, 22)\n",
      "(4, 11)\n"
     ]
    }
   ],
   "source": [
    "num=[55,44,33,22,11]\n",
    "for v in enumerate(num):\n",
    "    print(v)"
   ]
  },
  {
   "cell_type": "markdown",
   "id": "27f45470",
   "metadata": {},
   "source": [
    "# Text Analyzer\n",
    "\n",
    "- Here we will learn using def to count character in the file."
   ]
  },
  {
   "cell_type": "code",
   "execution_count": 20,
   "id": "8a4ba0e1",
   "metadata": {},
   "outputs": [],
   "source": [
    "f=open(\"text_analyzer_file\",'w')\n",
    "f.write(\"i am monis momin\\ni carry the ambision to become a great programmer in this world as ever known\\ni am looking forward to work in data\")\n",
    "f.close()\n"
   ]
  },
  {
   "cell_type": "code",
   "execution_count": 21,
   "id": "b2e36fa6",
   "metadata": {},
   "outputs": [
    {
     "name": "stdout",
     "output_type": "stream",
     "text": [
      "i am monis momin\n",
      "i carry the ambision to become a great programmer in this world as ever known\n",
      "i am looking forward to work in data\n"
     ]
    }
   ],
   "source": [
    "f=open(\"text_analyzer_file\",'r')\n",
    "print(f.read())\n",
    "f.close()\n"
   ]
  },
  {
   "cell_type": "code",
   "execution_count": 22,
   "id": "a8831a04",
   "metadata": {
    "scrolled": true
   },
   "outputs": [
    {
     "name": "stdout",
     "output_type": "stream",
     "text": [
      "a--8.4\n",
      "b--1.53\n",
      "c--1.53\n",
      "d--2.29\n",
      "e--5.34\n",
      "f--0.76\n",
      "g--2.29\n",
      "h--1.53\n",
      "i--8.4\n",
      "j--0.0\n",
      "k--2.29\n",
      "l--1.53\n",
      "m--6.87\n",
      "n--6.11\n",
      "o--9.92\n",
      "p--0.76\n",
      "q--0.0\n",
      "r--8.4\n",
      "s--3.05\n",
      "t--4.58\n",
      "u--0.0\n",
      "v--0.76\n",
      "w--3.05\n",
      "x--0.0\n",
      "y--0.76\n",
      "z--0.0\n",
      "Space--18.32\n",
      "New_Line-- 1.53%\n"
     ]
    }
   ],
   "source": [
    "def count_char(text,char):\n",
    "    count=0\n",
    "    for i in text:\n",
    "        if i==char:\n",
    "            count+=1\n",
    "    return count\n",
    "with open('text_analyzer_file') as f:\n",
    "    text=f.read()\n",
    "\n",
    "for char in \"abcdefghijklmnopqrstuvwxyz \\n\":\n",
    "    per=100*count_char(text,char)/len(text)\n",
    "    if char==\"\\n\":\n",
    "        print(\"{0}-- {1}%\".format('New_Line',round(per,2)))\n",
    "    elif char==' ':\n",
    "        print('{0}--{1}'.format(\"Space\",round(per,2)))\n",
    "    else:\n",
    "        print('{0}--{1}'.format(char,round(per,2)))    "
   ]
  },
  {
   "cell_type": "markdown",
   "id": "0b79b6ec",
   "metadata": {},
   "source": [
    "### Q ) Find the word in String\n",
    "\n",
    "- We use `find()` method & it will return index."
   ]
  },
  {
   "cell_type": "code",
   "execution_count": 23,
   "id": "02718e08",
   "metadata": {},
   "outputs": [
    {
     "name": "stdout",
     "output_type": "stream",
     "text": [
      "4\n"
     ]
    }
   ],
   "source": [
    "x=\"Monis Momin\"\n",
    "y=x.find('s')\n",
    "print(y)"
   ]
  },
  {
   "cell_type": "markdown",
   "id": "4591f282",
   "metadata": {},
   "source": [
    "# Functional Programming\n"
   ]
  },
  {
   "cell_type": "markdown",
   "id": "aa9872ac",
   "metadata": {},
   "source": [
    "##  Higher-order Function\n",
    "\n",
    "- Take other function as argument or return them as result\n"
   ]
  },
  {
   "cell_type": "code",
   "execution_count": 24,
   "id": "e43e1e68",
   "metadata": {},
   "outputs": [
    {
     "name": "stdout",
     "output_type": "stream",
     "text": [
      "20\n"
     ]
    }
   ],
   "source": [
    "def apply_twice(fun,x):\n",
    "    return fun(fun(x))\n",
    "def add_five(x):\n",
    "    return x+5\n",
    "\n",
    "\n",
    "print(apply_twice(add_five,10))"
   ]
  },
  {
   "cell_type": "markdown",
   "id": "3cb150c4",
   "metadata": {},
   "source": [
    "## Pure Function\n",
    "\n",
    "- Pure function has no side effects and return value that depend only on their argument."
   ]
  },
  {
   "cell_type": "code",
   "execution_count": 25,
   "id": "88cb33ec",
   "metadata": {},
   "outputs": [
    {
     "data": {
      "text/plain": [
       "105.0"
      ]
     },
     "execution_count": 25,
     "metadata": {},
     "output_type": "execute_result"
    }
   ],
   "source": [
    "def pure_fun(x,y):\n",
    "    temp=x+2*y\n",
    "    return (temp/2)*x+y\n",
    "\n",
    "pure_fun(10,5)"
   ]
  },
  {
   "cell_type": "markdown",
   "id": "4b7b4d62",
   "metadata": {},
   "source": [
    "## Impure Function\n",
    "\n",
    "- If function affect the global object then that function is not pure."
   ]
  },
  {
   "cell_type": "code",
   "execution_count": 26,
   "id": "c180618f",
   "metadata": {},
   "outputs": [
    {
     "name": "stdout",
     "output_type": "stream",
     "text": [
      "[2]\n"
     ]
    }
   ],
   "source": [
    "l=[]\n",
    "def impure(arg):\n",
    "    l.append(arg)\n",
    "impure(2)\n",
    "print(l)"
   ]
  },
  {
   "cell_type": "markdown",
   "id": "ba569e45",
   "metadata": {},
   "source": [
    "The above function, change the state of list-> l."
   ]
  },
  {
   "cell_type": "markdown",
   "id": "553fb5fe",
   "metadata": {},
   "source": [
    "###  Q) What is named function."
   ]
  },
  {
   "cell_type": "markdown",
   "id": "dd73b64c",
   "metadata": {},
   "source": [
    "Normal function i.e which is created by `def `"
   ]
  },
  {
   "cell_type": "markdown",
   "id": "5906300c",
   "metadata": {},
   "source": [
    "# Lambda\n",
    "\n",
    "- It has special syntax i.e lambda syntax\n",
    "- Function created by this way is called **anonymous**.\n",
    "- This named is getted from lambda calculus, which is a model of computation invented by **Alonzo Church**.\n",
    "- This function aren't powerfull as named function, all experation aren't be calculated\n"
   ]
  },
  {
   "cell_type": "code",
   "execution_count": 27,
   "id": "aad57a35",
   "metadata": {},
   "outputs": [
    {
     "name": "stdout",
     "output_type": "stream",
     "text": [
      "4\n"
     ]
    }
   ],
   "source": [
    "print((lambda x:x+2)(2))"
   ]
  },
  {
   "cell_type": "markdown",
   "id": "19d48b60",
   "metadata": {},
   "source": [
    "It can be used as normal function like\n"
   ]
  },
  {
   "cell_type": "code",
   "execution_count": 28,
   "id": "16b2f6cc",
   "metadata": {},
   "outputs": [
    {
     "name": "stdout",
     "output_type": "stream",
     "text": [
      "14\n"
     ]
    }
   ],
   "source": [
    "y=lambda x:x*2\n",
    "print(y(7))"
   ]
  },
  {
   "cell_type": "markdown",
   "id": "78b3047c",
   "metadata": {},
   "source": [
    "###  Q) What is an output?"
   ]
  },
  {
   "cell_type": "code",
   "execution_count": 29,
   "id": "a9ee2d26",
   "metadata": {},
   "outputs": [
    {
     "name": "stdout",
     "output_type": "stream",
     "text": [
      "10\n"
     ]
    }
   ],
   "source": [
    "triple=lambda x:x*3\n",
    "add=lambda x,y:x+y\n",
    "print(add(triple(3),1))"
   ]
  },
  {
   "cell_type": "markdown",
   "id": "9a1ceb92",
   "metadata": {},
   "source": [
    "## Map\n",
    "\n",
    "- To do operation in iterables we use this function.\n"
   ]
  },
  {
   "cell_type": "markdown",
   "id": "ca6de4db",
   "metadata": {},
   "source": [
    "**List or Similar object called iterables**"
   ]
  },
  {
   "cell_type": "markdown",
   "id": "4da1f0e1",
   "metadata": {},
   "source": [
    "Named Function"
   ]
  },
  {
   "cell_type": "code",
   "execution_count": 30,
   "id": "b25189fa",
   "metadata": {},
   "outputs": [
    {
     "name": "stdout",
     "output_type": "stream",
     "text": [
      "[6, 7, 8, 9]\n"
     ]
    }
   ],
   "source": [
    "def add_five(x):\n",
    "    return x+5\n",
    "l=[1,2,3,4]\n",
    "result=list(map(add_five,l))\n",
    "print(result)"
   ]
  },
  {
   "cell_type": "markdown",
   "id": "241bc4c7",
   "metadata": {},
   "source": [
    "Anonymous Function i.e lambda syntax."
   ]
  },
  {
   "cell_type": "code",
   "execution_count": 31,
   "id": "4d331b91",
   "metadata": {},
   "outputs": [
    {
     "name": "stdout",
     "output_type": "stream",
     "text": [
      "[6, 7, 8, 9]\n"
     ]
    }
   ],
   "source": [
    "l=[1,2,3,4]\n",
    "result=list(map(lambda x:x+5,l))\n",
    "print(result)"
   ]
  },
  {
   "cell_type": "markdown",
   "id": "b0762465",
   "metadata": {},
   "source": [
    "## Filter\n",
    "\n",
    "- It is used to print only function, which satisfy the condition in Boolean\n",
    "- It is used as filter and remove the unnessesary stuf."
   ]
  },
  {
   "cell_type": "code",
   "execution_count": 32,
   "id": "551371a7",
   "metadata": {},
   "outputs": [
    {
     "name": "stdout",
     "output_type": "stream",
     "text": [
      "[2, 4]\n"
     ]
    }
   ],
   "source": [
    "l=[1,2,3,4,5]\n",
    "r=list(filter(lambda x:x%2==0,l))\n",
    "print(r)"
   ]
  },
  {
   "cell_type": "markdown",
   "id": "8486b94d",
   "metadata": {},
   "source": [
    "# Generators\n",
    "\n",
    "- It is an iterable\n",
    "- We can use it by `yield` statement.\n",
    "- indexing not allow but it still be iterable by using loop."
   ]
  },
  {
   "cell_type": "code",
   "execution_count": 33,
   "id": "090c75b7",
   "metadata": {},
   "outputs": [
    {
     "name": "stdout",
     "output_type": "stream",
     "text": [
      "5\n",
      "4\n",
      "3\n",
      "2\n",
      "1\n"
     ]
    }
   ],
   "source": [
    "def count():\n",
    "    i=5\n",
    "    while i>0:\n",
    "        yield i\n",
    "        i-=1\n",
    "for i in count():\n",
    "    print(i)"
   ]
  },
  {
   "cell_type": "markdown",
   "id": "dbaa2963",
   "metadata": {},
   "source": [
    "Replacing yield to resturn of a function to provide a result to its caller without destroying local variable."
   ]
  },
  {
   "cell_type": "markdown",
   "id": "8dc30090",
   "metadata": {},
   "source": [
    "Generator don't have memory restriction of list.\n"
   ]
  },
  {
   "cell_type": "code",
   "execution_count": 34,
   "id": "908a51cc",
   "metadata": {},
   "outputs": [
    {
     "name": "stdout",
     "output_type": "stream",
     "text": [
      "7\n",
      "7\n",
      "7\n",
      "7\n",
      "7\n",
      "7\n",
      "7\n",
      "7\n",
      "7\n",
      "7\n"
     ]
    }
   ],
   "source": [
    "def infinite():\n",
    "    while True:\n",
    "        yield 7\n",
    "c=0      # c is only to avoid error of inifnite running   \n",
    "for i in infinite():\n",
    "    print(i)\n",
    "    c+=1\n",
    "    if c==10:\n",
    "        break\n",
    "        \n",
    "        "
   ]
  },
  {
   "cell_type": "markdown",
   "id": "2f00c04a",
   "metadata": {},
   "source": [
    "Finite Generator can be converted into list"
   ]
  },
  {
   "cell_type": "code",
   "execution_count": 35,
   "id": "9b460e95",
   "metadata": {},
   "outputs": [
    {
     "name": "stdout",
     "output_type": "stream",
     "text": [
      "[0, 2, 4, 6, 8, 10]\n"
     ]
    }
   ],
   "source": [
    "def number(x):\n",
    "    for i in range(x):\n",
    "        if i%2==0:\n",
    "            yield i\n",
    "print(list(number(11)))            "
   ]
  },
  {
   "cell_type": "markdown",
   "id": "04fe11b1",
   "metadata": {},
   "source": [
    "### Q )\n"
   ]
  },
  {
   "cell_type": "code",
   "execution_count": 36,
   "id": "5452611c",
   "metadata": {},
   "outputs": [
    {
     "name": "stdout",
     "output_type": "stream",
     "text": [
      "[' M', ' Mo', ' Mon', ' Moni', ' Monis']\n"
     ]
    }
   ],
   "source": [
    "def seperate():\n",
    "    word=\" \"\n",
    "    for i in \"Monis\":\n",
    "        word+=i\n",
    "        yield word\n",
    "print(list(seperate()))        "
   ]
  },
  {
   "cell_type": "markdown",
   "id": "13aca9c7",
   "metadata": {},
   "source": [
    "# Decorators\n",
    "\n",
    "- It provide a way to modify function using other function."
   ]
  },
  {
   "cell_type": "code",
   "execution_count": 37,
   "id": "532049f5",
   "metadata": {},
   "outputs": [
    {
     "name": "stdout",
     "output_type": "stream",
     "text": [
      "========\n",
      "Monis Momin\n",
      "========\n"
     ]
    }
   ],
   "source": [
    "def decor(func):\n",
    "    def wrap():\n",
    "        print(\"========\")\n",
    "        func()\n",
    "        print(\"========\")\n",
    "    return wrap\n",
    "\n",
    "def print_text():\n",
    "    print(\"Monis Momin\")\n",
    "    \n",
    "decorated=decor(print_text)\n",
    "\n",
    "decorated()"
   ]
  },
  {
   "cell_type": "markdown",
   "id": "1bf67716",
   "metadata": {},
   "source": [
    "Python provide support to wrap a function in decorator by pre-pending the function define\n",
    "with a decorator `name `and` @ `symbol"
   ]
  },
  {
   "cell_type": "markdown",
   "id": "7ffe4c80",
   "metadata": {},
   "source": [
    "If we defining a function we can decorate it with the ` @ ` symbol."
   ]
  },
  {
   "cell_type": "code",
   "execution_count": 38,
   "id": "b4ba886f",
   "metadata": {},
   "outputs": [
    {
     "name": "stdout",
     "output_type": "stream",
     "text": [
      "===========\n",
      "===========\n",
      "To be a great Programmer\n",
      "===========\n",
      "===========\n",
      "\n",
      "\n",
      "\n",
      "\n",
      "===========\n",
      "To be a great Programmer\n",
      "===========\n"
     ]
    }
   ],
   "source": [
    "def decor(func):\n",
    "    def wrap():\n",
    "        print(\"===========\")\n",
    "        func()\n",
    "        print('===========')\n",
    "    return wrap             # To make a nested function and return it, is important. To avoid an Error\n",
    "@decor\n",
    "def print_text():\n",
    "    print(\"To be a great Programmer\")\n",
    "\n",
    "x=decor(print_text)    \n",
    "x()\n",
    "print('\\n\\n\\n')\n",
    "print_text()\n",
    "    "
   ]
  },
  {
   "cell_type": "markdown",
   "id": "0df69047",
   "metadata": {},
   "source": [
    "My decorator"
   ]
  },
  {
   "cell_type": "code",
   "execution_count": 39,
   "id": "c1b2ac4e",
   "metadata": {},
   "outputs": [
    {
     "name": "stdout",
     "output_type": "stream",
     "text": [
      "--+--+--+--+--+-\n",
      "The Dark_Prince\n",
      "--+--+--+--+--+-\n"
     ]
    },
    {
     "ename": "TypeError",
     "evalue": "'NoneType' object is not callable",
     "output_type": "error",
     "traceback": [
      "\u001b[1;31m---------------------------------------------------------------------------\u001b[0m",
      "\u001b[1;31mTypeError\u001b[0m                                 Traceback (most recent call last)",
      "Cell \u001b[1;32mIn[39], line 10\u001b[0m\n\u001b[0;32m      6\u001b[0m \u001b[38;5;129m@style\u001b[39m\n\u001b[0;32m      7\u001b[0m \u001b[38;5;28;01mdef\u001b[39;00m \u001b[38;5;21mname\u001b[39m():\n\u001b[0;32m      8\u001b[0m     \u001b[38;5;28mprint\u001b[39m(\u001b[38;5;124m\"\u001b[39m\u001b[38;5;124mThe Dark_Prince\u001b[39m\u001b[38;5;124m\"\u001b[39m)\n\u001b[1;32m---> 10\u001b[0m name()\n",
      "\u001b[1;31mTypeError\u001b[0m: 'NoneType' object is not callable"
     ]
    }
   ],
   "source": [
    "# If we don't write nested function and do not return it value.\n",
    "def style(func):\n",
    "    print(\"--+--+--+--+--+-\")\n",
    "    func()\n",
    "    print(\"--+--+--+--+--+-\")\n",
    "@style\n",
    "def name():\n",
    "    print(\"The Dark_Prince\")\n",
    "    \n",
    "name()    "
   ]
  },
  {
   "cell_type": "code",
   "execution_count": 40,
   "id": "cbf4fac6",
   "metadata": {},
   "outputs": [
    {
     "name": "stdout",
     "output_type": "stream",
     "text": [
      "--+--+--+--+--+-\n",
      "The Dark_Prince\n",
      "--+--+--+--+--+-\n"
     ]
    }
   ],
   "source": [
    "def style(func):\n",
    "    def wrap():\n",
    "        \n",
    "        print(\"--+--+--+--+--+-\")\n",
    "        func()\n",
    "        print(\"--+--+--+--+--+-\")\n",
    "    return wrap    \n",
    "\n",
    "@style\n",
    "def name():\n",
    "    print(\"The Dark_Prince\")\n",
    " \n",
    "\n",
    "\n",
    "name()    "
   ]
  },
  {
   "cell_type": "markdown",
   "id": "901f4689",
   "metadata": {},
   "source": [
    "# Recursion"
   ]
  },
  {
   "cell_type": "markdown",
   "id": "e148835f",
   "metadata": {},
   "source": [
    "To find Factorial"
   ]
  },
  {
   "cell_type": "code",
   "execution_count": 41,
   "id": "b9efb715",
   "metadata": {},
   "outputs": [
    {
     "name": "stdout",
     "output_type": "stream",
     "text": [
      "120\n"
     ]
    }
   ],
   "source": [
    "def factorial(x):\n",
    "    if x==1:\n",
    "        return 1\n",
    "    return x*factorial(x-1)\n",
    "\n",
    "print(factorial(5))\n"
   ]
  },
  {
   "cell_type": "markdown",
   "id": "c8f3927c",
   "metadata": {},
   "source": [
    "To check Even and Odd number"
   ]
  },
  {
   "cell_type": "code",
   "execution_count": 42,
   "id": "e91f8258",
   "metadata": {},
   "outputs": [
    {
     "name": "stdout",
     "output_type": "stream",
     "text": [
      "True\n",
      "False\n",
      "True\n",
      "False\n"
     ]
    }
   ],
   "source": [
    "def is_even(x):\n",
    "    if x==0:\n",
    "        return True\n",
    "    else:\n",
    "        return is_odd(x-1)\n",
    "def is_odd(x):\n",
    "    return not is_even(x)\n",
    "\n",
    "print(is_even(8))\n",
    "print(is_even(9))\n",
    "\n",
    "print(is_odd(3))\n",
    "print(is_odd(4))"
   ]
  },
  {
   "cell_type": "markdown",
   "id": "efe835e6",
   "metadata": {},
   "source": [
    "To find fibonacis number"
   ]
  },
  {
   "cell_type": "code",
   "execution_count": 43,
   "id": "6c1fa747",
   "metadata": {},
   "outputs": [
    {
     "name": "stdout",
     "output_type": "stream",
     "text": [
      "[1, 1, 2, 3, 5, 8, 13, 21, 34, 55]\n"
     ]
    }
   ],
   "source": [
    "def fib(n):\n",
    "    if n==0 or n==1:\n",
    "        return 1\n",
    "    return fib(n-1)+fib(n-2)\n",
    "\n",
    "fibo_list=[fib(i) for i in range(10)]\n",
    "print(fibo_list)"
   ]
  },
  {
   "cell_type": "markdown",
   "id": "00192371",
   "metadata": {},
   "source": [
    "# Set\n",
    "\n",
    "- It is an type of Data Structure\n",
    "- Created by `curly braces` or `set()`\n",
    "- Show some funcationlity with list, such as `in` to check True or False.\n",
    "- Set are unorder.\n",
    "- It does't contain dublicate element"
   ]
  },
  {
   "cell_type": "code",
   "execution_count": 44,
   "id": "5df95749",
   "metadata": {},
   "outputs": [
    {
     "name": "stdout",
     "output_type": "stream",
     "text": [
      "{1, 2, 3, 4, 5}\n",
      "{'c', 'b', 'd', 'a'}\n",
      "True\n",
      "True\n"
     ]
    }
   ],
   "source": [
    "number={1,2,3,4,5,5,2,3}\n",
    "word=set([\"a\",'b','c','d','a','c'])\n",
    "print(number)\n",
    "print(word)\n",
    "print(3 in number)\n",
    "print('a' in word)"
   ]
  },
  {
   "cell_type": "markdown",
   "id": "a7331676",
   "metadata": {},
   "source": [
    "###  Methods of Set\n",
    "\n",
    "- To add element - `s.add()`\n",
    "- To remove - ` s.remove() `\n",
    "- To find length - `len(s) `"
   ]
  },
  {
   "cell_type": "code",
   "execution_count": 45,
   "id": "951a487a",
   "metadata": {},
   "outputs": [
    {
     "name": "stdout",
     "output_type": "stream",
     "text": [
      "{1, 2, 3, 4, 5}\n"
     ]
    }
   ],
   "source": [
    "s={1,2,3,4,5,2,3,4,2,1}\n",
    "print(s)"
   ]
  },
  {
   "cell_type": "code",
   "execution_count": 46,
   "id": "51681a94",
   "metadata": {},
   "outputs": [
    {
     "name": "stdout",
     "output_type": "stream",
     "text": [
      "{1, 2, 3, 4, 5, 8}\n"
     ]
    }
   ],
   "source": [
    "s.add(8)\n",
    "print(s)"
   ]
  },
  {
   "cell_type": "code",
   "execution_count": 47,
   "id": "0421a08e",
   "metadata": {},
   "outputs": [
    {
     "name": "stdout",
     "output_type": "stream",
     "text": [
      "{1, 3, 4, 5, 8}\n"
     ]
    }
   ],
   "source": [
    "s.remove(2)\n",
    "print(s)"
   ]
  },
  {
   "cell_type": "code",
   "execution_count": 48,
   "id": "3c635c67",
   "metadata": {},
   "outputs": [
    {
     "name": "stdout",
     "output_type": "stream",
     "text": [
      "5\n"
     ]
    }
   ],
   "source": [
    "print(len(s))"
   ]
  },
  {
   "cell_type": "markdown",
   "id": "2f7692d8",
   "metadata": {},
   "source": [
    "In set, if we add element it automatically added to correct sequece."
   ]
  },
  {
   "cell_type": "code",
   "execution_count": 49,
   "id": "131bb216",
   "metadata": {},
   "outputs": [
    {
     "name": "stdout",
     "output_type": "stream",
     "text": [
      "{1, 2, 3, 4, 5, 8}\n"
     ]
    }
   ],
   "source": [
    "s.add(2)\n",
    "print(s)"
   ]
  },
  {
   "cell_type": "markdown",
   "id": "5fd16dbf",
   "metadata": {},
   "source": [
    "### Set can be combine using mathematical operation"
   ]
  },
  {
   "cell_type": "markdown",
   "id": "712e3a3d",
   "metadata": {},
   "source": [
    "-  Union operator =` | ` -->  To get total item present in both set \n",
    "- Intersection = ` &  `   -->  To get item in both \n",
    "- Difference = ` - ` -->  Get items in first set but not in the second set \n",
    "- Symmertric Difference = ` ^  ` -->  Get items in either set but not both "
   ]
  },
  {
   "cell_type": "code",
   "execution_count": 50,
   "id": "e6ed5bce",
   "metadata": {},
   "outputs": [],
   "source": [
    "s1={1,2,3,4,5,6}\n",
    "s2={4,5,6,7,8,9}"
   ]
  },
  {
   "cell_type": "code",
   "execution_count": 51,
   "id": "434ba492",
   "metadata": {},
   "outputs": [
    {
     "name": "stdout",
     "output_type": "stream",
     "text": [
      "{1, 2, 3, 4, 5, 6, 7, 8, 9}\n"
     ]
    }
   ],
   "source": [
    "print(s1|s2)"
   ]
  },
  {
   "cell_type": "code",
   "execution_count": 52,
   "id": "29962814",
   "metadata": {},
   "outputs": [
    {
     "name": "stdout",
     "output_type": "stream",
     "text": [
      "{4, 5, 6}\n"
     ]
    }
   ],
   "source": [
    "print(s1&s2)"
   ]
  },
  {
   "cell_type": "code",
   "execution_count": 53,
   "id": "db8e8c26",
   "metadata": {},
   "outputs": [
    {
     "name": "stdout",
     "output_type": "stream",
     "text": [
      "{1, 2, 3}\n"
     ]
    }
   ],
   "source": [
    "print(s1-s2)"
   ]
  },
  {
   "cell_type": "code",
   "execution_count": 54,
   "id": "79520aea",
   "metadata": {},
   "outputs": [
    {
     "name": "stdout",
     "output_type": "stream",
     "text": [
      "{1, 2, 3, 7, 8, 9}\n"
     ]
    }
   ],
   "source": [
    "print(s1^s2)"
   ]
  }
 ],
 "metadata": {
  "kernelspec": {
   "display_name": "Python 3 (ipykernel)",
   "language": "python",
   "name": "python3"
  },
  "language_info": {
   "codemirror_mode": {
    "name": "ipython",
    "version": 3
   },
   "file_extension": ".py",
   "mimetype": "text/x-python",
   "name": "python",
   "nbconvert_exporter": "python",
   "pygments_lexer": "ipython3",
   "version": "3.11.5"
  }
 },
 "nbformat": 4,
 "nbformat_minor": 5
}
