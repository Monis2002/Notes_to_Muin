{
 "cells": [
  {
   "cell_type": "markdown",
   "id": "0a128d44",
   "metadata": {},
   "source": [
    "<h1 style=\"color:green;font-size:100px;font-family: cursive;\"><u><i>Index</i></u></h1>\n",
    "<br><br><br><br><br><br>\n",
    "\n",
    "<div style=\"font-size:24px; line-height: 2.6;\">\n",
    "        <ol>\n",
    "         <li>Constructor</li> \n",
    "         <li>Types of Variable\n",
    "            <ul>\n",
    "             <li>Instance Variable</li>\n",
    "             <li>Class(Static) Variable</li>   \n",
    "             </ul>\n",
    "            </li> \n",
    "         <li>Inheritence</li> \n",
    "         <li>Polymorphism</li>  \n",
    "          <li> Data Hinding</li>  \n",
    "           <li>Properties</li>     \n",
    "        </ol>    \n",
    "\n",
    "</div>    "
   ]
  },
  {
   "cell_type": "markdown",
   "id": "8e2aa88c",
   "metadata": {},
   "source": [
    "<h1 style=\"color:purple;font-size:40px;\">Object Oriented Programming (OOP)</h1>\n",
    "<br>\n",
    "\n",
    "- Class = Design\n",
    "- Object = Instance\n",
    "- Function = Method\n",
    "- Variable = Attribute"
   ]
  },
  {
   "cell_type": "markdown",
   "id": "768d7d89",
   "metadata": {},
   "source": [
    "## Note:- \n",
    "\n",
    "- `pass` statement is used in class,when we have empty class"
   ]
  },
  {
   "cell_type": "markdown",
   "id": "d06587ed",
   "metadata": {},
   "source": [
    "# _Constructor_\n",
    "\n",
    "- It is `__init__()` method\n",
    "- aim is to initialize the variable\n",
    "- No need to call,when object is created it auto get called.\n"
   ]
  },
  {
   "cell_type": "code",
   "execution_count": 1,
   "id": "8f26776b",
   "metadata": {},
   "outputs": [
    {
     "name": "stdout",
     "output_type": "stream",
     "text": [
      "Monis\n"
     ]
    }
   ],
   "source": [
    "class A:\n",
    "    def __init__(self):\n",
    "        print(\"Monis\")\n",
    "a=A()        "
   ]
  },
  {
   "cell_type": "markdown",
   "id": "3def5ce4",
   "metadata": {},
   "source": [
    "Eg -"
   ]
  },
  {
   "cell_type": "code",
   "execution_count": 2,
   "id": "ec161adf",
   "metadata": {},
   "outputs": [
    {
     "name": "stdout",
     "output_type": "stream",
     "text": [
      "Config is i5 16\n",
      "Config is Ryzen3 8\n"
     ]
    }
   ],
   "source": [
    "class computer:\n",
    "    def __init__(self,cpu,ram):\n",
    "        self.cpu=cpu\n",
    "        self.ram=ram\n",
    "    def config(self):\n",
    "        print(\"Config is\",self.cpu,self.ram)\n",
    "c1=computer('i5',16)\n",
    "c2=computer('Ryzen3',8)\n",
    "\n",
    "c1.config()\n",
    "c2.config()"
   ]
  },
  {
   "cell_type": "markdown",
   "id": "2555e9d8",
   "metadata": {},
   "source": [
    "We can do same as above, without creating an object"
   ]
  },
  {
   "cell_type": "code",
   "execution_count": 3,
   "id": "244ce66f",
   "metadata": {},
   "outputs": [
    {
     "name": "stdout",
     "output_type": "stream",
     "text": [
      "Config is i5 12\n",
      "Config is ryzen 8\n"
     ]
    }
   ],
   "source": [
    "class computer:\n",
    "    def __init__(self,cpu,ram):\n",
    "        self.cpu=cpu\n",
    "        self.ram=ram\n",
    "    def config(self):\n",
    "        print(\"Config is\",self.cpu,self.ram)\n",
    "        \n",
    "computer('i5',12).config()\n",
    "computer('ryzen',8).config()"
   ]
  },
  {
   "cell_type": "markdown",
   "id": "04dfb64a",
   "metadata": {},
   "source": [
    "Eg-"
   ]
  },
  {
   "cell_type": "code",
   "execution_count": 4,
   "id": "40690b90",
   "metadata": {},
   "outputs": [
    {
     "name": "stdout",
     "output_type": "stream",
     "text": [
      "Monis 21\n",
      "Muin 10\n"
     ]
    }
   ],
   "source": [
    "class student:\n",
    "    def __init__(self):\n",
    "        self.name=\"Monis\"\n",
    "        self.age=21\n",
    "s1=student()\n",
    "s2=student()\n",
    "s2.name=\"Muin\"\n",
    "s2.age=10\n",
    "print(s1.name,s1.age)\n",
    "print(s2.name,s2.age)"
   ]
  },
  {
   "cell_type": "markdown",
   "id": "75ec84df",
   "metadata": {},
   "source": [
    "We can do same with method"
   ]
  },
  {
   "cell_type": "code",
   "execution_count": 5,
   "id": "80b633b8",
   "metadata": {},
   "outputs": [
    {
     "name": "stdout",
     "output_type": "stream",
     "text": [
      "Muin 21\n",
      "Monis 30\n"
     ]
    }
   ],
   "source": [
    "class student:\n",
    "    def __init__(self):\n",
    "        self.name=\"Monis\"\n",
    "        self.age=21\n",
    "    def update(self):\n",
    "        self.age=30\n",
    "s1=student()\n",
    "s2=student()\n",
    "\n",
    "s1.name='Muin'\n",
    "s2.update()\n",
    "\n",
    "print(s1.name,s1.age)\n",
    "print(s2.name,s2.age)"
   ]
  },
  {
   "cell_type": "markdown",
   "id": "1b340f7c",
   "metadata": {},
   "source": [
    "  comparing Object attribute Method"
   ]
  },
  {
   "cell_type": "code",
   "execution_count": 7,
   "id": "38564b17",
   "metadata": {},
   "outputs": [
    {
     "name": "stdout",
     "output_type": "stream",
     "text": [
      "They are same\n"
     ]
    }
   ],
   "source": [
    "class student:\n",
    "    def __init__(self,name,age):\n",
    "        self.name=name\n",
    "        self.age=age\n",
    "    def compare_age(self,other):\n",
    "        if self.age==other.age:\n",
    "            return True\n",
    "        else:\n",
    "            return False\n",
    "s1=student(\"Monis\",21)\n",
    "s2=student(\"Muin\",21)\n",
    "\n",
    "if s1.compare_age(s2):\n",
    "    print(\"They are same\")\n",
    "else:\n",
    "    print(\"They are different\")"
   ]
  },
  {
   "cell_type": "code",
   "execution_count": 8,
   "id": "1cd89590",
   "metadata": {},
   "outputs": [
    {
     "name": "stdout",
     "output_type": "stream",
     "text": [
      "They are different\n"
     ]
    }
   ],
   "source": [
    "class student:\n",
    "    def __init__(self,name,age):\n",
    "        self.name=name\n",
    "        self.age=age\n",
    "    def compare_age(self,other):\n",
    "        if self.age==other.age:\n",
    "            return True\n",
    "        else:\n",
    "            return False\n",
    "s1=student(\"Monis\",21)\n",
    "s2=student(\"Muin\",22)\n",
    "\n",
    "if s1.compare_age(s2):\n",
    "    print(\"They are same\")\n",
    "else:\n",
    "    print(\"They are different\")"
   ]
  },
  {
   "cell_type": "markdown",
   "id": "b209adb2",
   "metadata": {},
   "source": [
    "# _Types of Variable_\n",
    "\n",
    "- Instance Variable\n",
    "- Class(Static) Variable"
   ]
  },
  {
   "cell_type": "code",
   "execution_count": 11,
   "id": "bbb23ebf",
   "metadata": {},
   "outputs": [
    {
     "name": "stdout",
     "output_type": "stream",
     "text": [
      "BMW 12\n",
      "BMW 40\n",
      "3\n"
     ]
    }
   ],
   "source": [
    "class Car:\n",
    "    wheel=4 # Class Variable\n",
    "    def __init__(self):\n",
    "        self.com='BMW' # Instance Variable\n",
    "        self.mil=12\n",
    "        \n",
    "    def update(self):\n",
    "        self.name=\"Audi\"\n",
    "        self.mil=40\n",
    "   \n",
    "    def show(self):\n",
    "        return \"{} {}\".format(self.com,self.mil)\n",
    "    \n",
    "c1=Car()\n",
    "c2=Car()\n",
    "c2.update()\n",
    "Car.wheel=3\n",
    "print(c1.show())\n",
    "print(c2.show())\n",
    "print(c2.wheel)"
   ]
  },
  {
   "cell_type": "markdown",
   "id": "378a45c1",
   "metadata": {},
   "source": [
    "####  Use of Setter and getter"
   ]
  },
  {
   "cell_type": "code",
   "execution_count": 21,
   "id": "c4c4fb22",
   "metadata": {},
   "outputs": [
    {
     "name": "stdout",
     "output_type": "stream",
     "text": [
      "m1 = 2, m2 = 3\n",
      "2.5\n",
      "m1 = 20, m2 = 3\n",
      "11.5\n"
     ]
    }
   ],
   "source": [
    "class student:\n",
    "    def __init__(self,m1,m2):\n",
    "        self.m1=m1\n",
    "        self.m2=m2\n",
    "        \n",
    "    \n",
    "    def set_m1(self,value):\n",
    "        self.m1=value\n",
    "    \n",
    "    def get_m1(self):\n",
    "        return self.m1\n",
    "    \n",
    "    def avg(self):\n",
    "        return (self.m2+self.m1)/2\n",
    "s1=student(2,3)\n",
    "\n",
    "print(\"m1 = {}, m2 = {}\".format(s1.m1,s1.m2))\n",
    "print(s1.avg())\n",
    "\n",
    "\n",
    "s1.set_m1(20)\n",
    "print(\"m1 = {}, m2 = {}\".format(s1.m1,s1.m2))\n",
    "print(s1.avg())\n"
   ]
  },
  {
   "cell_type": "markdown",
   "id": "d7a34887",
   "metadata": {},
   "source": [
    "We can do it with better way i.e with Magic method"
   ]
  },
  {
   "cell_type": "code",
   "execution_count": 28,
   "id": "a09e52fa",
   "metadata": {},
   "outputs": [
    {
     "name": "stdout",
     "output_type": "stream",
     "text": [
      "2\n",
      "[2, 3, None, None, 12, None, None, None, None, None]\n"
     ]
    }
   ],
   "source": [
    "class Student:\n",
    "    def __init__(self):\n",
    "        self.arr=[None for _ in range(10)]\n",
    "    def __setitem__(self,index,value):\n",
    "        self.arr[index]=value\n",
    "    def __getitem__(self,index):\n",
    "        return self.arr[index]\n",
    "    def show(self):\n",
    "        print(self.arr)\n",
    "s=Student()\n",
    "\n",
    "s[0]=2\n",
    "s[1]=3\n",
    "print(s[0])\n",
    "s[4]=12\n",
    "s.show()"
   ]
  },
  {
   "cell_type": "markdown",
   "id": "c550aa9e",
   "metadata": {},
   "source": [
    "#  _Inheritence_\n",
    "\n",
    "- We can use this by `class class_name(super class_name)`\n",
    "- by using `super()` we can operate method/constructor of superclass.\n",
    "- Sub_Class can able to operate every function of super_class but Viceversa is not possible.\n",
    "\n",
    "\n"
   ]
  },
  {
   "cell_type": "markdown",
   "id": "709abed3",
   "metadata": {},
   "source": [
    "    class A                  class B\n",
    "        |                        | \n",
    "        |                        |\n",
    "        --------------------------\n",
    "                  |\n",
    "                  Class C"
   ]
  },
  {
   "cell_type": "markdown",
   "id": "18eb8ca6",
   "metadata": {},
   "source": [
    "- By using `super()` in Class C ,if we call constructor then it will call of Class A Constructor\n",
    "- Becuase python always go from Left to Right"
   ]
  },
  {
   "cell_type": "markdown",
   "id": "35585e15",
   "metadata": {},
   "source": [
    "**Type of Constructor**\n",
    "- Single Level\n",
    "- Multi Level\n",
    "- Multiple Level\n",
    "- Herarchical Level\n",
    "- Hybrid Level\n",
    "\n"
   ]
  },
  {
   "cell_type": "code",
   "execution_count": 4,
   "id": "89e93d19",
   "metadata": {},
   "outputs": [
    {
     "name": "stdout",
     "output_type": "stream",
     "text": [
      "It is INIT of myself\n",
      "Realme C2\n",
      "Realme C12\n",
      "Realme 3i\n",
      "It is INIT of DAD\n"
     ]
    }
   ],
   "source": [
    "class dad:\n",
    "    def __init__(self):\n",
    "        print(\"It is INIT of DAD\")\n",
    "    def f1(self):\n",
    "        print(\"Realme C2\")\n",
    "class bro:\n",
    "    def __init__(self):\n",
    "        print(\"It is INIT  of BRO\")\n",
    "    def f2(self):\n",
    "        print(\"Realme C12\")\n",
    "class myself(dad,bro):\n",
    "    def __init__(self):\n",
    "        print(\"It is INIT of myself\")\n",
    "    def f3(self):\n",
    "        print(\"Realme 3i\")\n",
    "        super().__init__()\n",
    "\n",
    "m=myself()\n",
    "m.f1()\n",
    "m.f2()\n",
    "m.f3()"
   ]
  },
  {
   "cell_type": "markdown",
   "id": "22754f1c",
   "metadata": {},
   "source": [
    "### Use of classmethod & staticmethod\n"
   ]
  },
  {
   "cell_type": "code",
   "execution_count": 6,
   "id": "2a653f45",
   "metadata": {},
   "outputs": [
    {
     "name": "stdout",
     "output_type": "stream",
     "text": [
      "This is INIT\n",
      "Dark Prince\n",
      "Epiphany\n",
      "My name is Monis\n"
     ]
    }
   ],
   "source": [
    "class A:\n",
    "    school='Epiphany'\n",
    "    def __init__(self):\n",
    "        print(\"This is INIT\")\n",
    "    def info(self):\n",
    "        print(\"Dark Prince\")\n",
    "    @classmethod\n",
    "    def detail(cls):\n",
    "        return cls.school\n",
    "    @staticmethod\n",
    "    def my():\n",
    "        print(\"My name is Monis\")\n",
    "        \n",
    "a=A()\n",
    "a.info()\n",
    "print(A.detail())\n",
    "A.my()"
   ]
  },
  {
   "cell_type": "markdown",
   "id": "90081993",
   "metadata": {},
   "source": [
    "### Nested Class"
   ]
  },
  {
   "cell_type": "code",
   "execution_count": 9,
   "id": "0077327e",
   "metadata": {},
   "outputs": [
    {
     "name": "stdout",
     "output_type": "stream",
     "text": [
      "Monis 21\n",
      "HP 8\n",
      "Muin 19\n",
      "HP 8\n"
     ]
    }
   ],
   "source": [
    "class student:\n",
    "    def __init__(self,name,age):\n",
    "        self.name=name\n",
    "        self.age=age\n",
    "        self.lap=self.laptop() # Creating object of nested class\n",
    "    def show(self):\n",
    "        print(self.name,self.age)\n",
    "        self.lap.show()\n",
    "    class laptop:\n",
    "        def __init__(self):\n",
    "            self.brand='HP'\n",
    "            self.ram=8\n",
    "        def show(self):\n",
    "            print(self.brand,self.ram)\n",
    "s1=student(\"Monis\",21)\n",
    "s2=student(\"Muin\",19)\n",
    "s1.show()\n",
    "s2.show()"
   ]
  },
  {
   "cell_type": "markdown",
   "id": "dcc1be96",
   "metadata": {},
   "source": [
    "# _Polymorphism_  \n",
    "    It means One thing in many form\n",
    "\n",
    "- Duck Typing\n",
    "- Operator Overloading\n",
    "- Method Overloading\n",
    "- Method Overriding\n"
   ]
  },
  {
   "cell_type": "markdown",
   "id": "4cc5a5bb",
   "metadata": {},
   "source": [
    "###  Duck Typing\n",
    "\n",
    "- Here it is important to have the same word to operate code."
   ]
  },
  {
   "cell_type": "markdown",
   "id": "1f5ec960",
   "metadata": {},
   "source": [
    "Eg-"
   ]
  },
  {
   "cell_type": "code",
   "execution_count": 10,
   "id": "8e37b9b9",
   "metadata": {},
   "outputs": [],
   "source": [
    "class pycharm:\n",
    "    def execute(self):\n",
    "        print(\"Compiling\")\n",
    "class myeditor:\n",
    "    def execute(self):\n",
    "        print(\"Compiling\")\n",
    "        print(\"Spell check\")\n",
    "   \n",
    "\n",
    "class laptop:\n",
    "    def code(self,ide):\n",
    "        ide.execute()"
   ]
  },
  {
   "cell_type": "markdown",
   "id": "61531d77",
   "metadata": {},
   "source": [
    "Now use the above class"
   ]
  },
  {
   "cell_type": "markdown",
   "id": "c131c1ce",
   "metadata": {},
   "source": [
    "If we use myeditor"
   ]
  },
  {
   "cell_type": "code",
   "execution_count": 11,
   "id": "6b15d111",
   "metadata": {
    "scrolled": true
   },
   "outputs": [
    {
     "name": "stdout",
     "output_type": "stream",
     "text": [
      "Compiling\n",
      "Spell check\n"
     ]
    }
   ],
   "source": [
    "x=myeditor()\n",
    "lap=laptop()\n",
    "lap.code(x)"
   ]
  },
  {
   "cell_type": "markdown",
   "id": "4133cf92",
   "metadata": {},
   "source": [
    "If we use pycharm"
   ]
  },
  {
   "cell_type": "code",
   "execution_count": 13,
   "id": "f9d6bd20",
   "metadata": {},
   "outputs": [
    {
     "name": "stdout",
     "output_type": "stream",
     "text": [
      "Compiling\n"
     ]
    }
   ],
   "source": [
    "x=pycharm()\n",
    "lap=laptop()\n",
    "lap.code(x)"
   ]
  },
  {
   "cell_type": "markdown",
   "id": "d55465bd",
   "metadata": {},
   "source": [
    "###  Operator Overloading"
   ]
  },
  {
   "cell_type": "markdown",
   "id": "8c160f7c",
   "metadata": {},
   "source": [
    "_There are many magic method are aviable like for ` + ` = `__add__` , visit documentation for more._"
   ]
  },
  {
   "cell_type": "markdown",
   "id": "53a864fb",
   "metadata": {},
   "source": [
    "Basic example of Operator Overloading"
   ]
  },
  {
   "cell_type": "code",
   "execution_count": 14,
   "id": "afbf7f0e",
   "metadata": {},
   "outputs": [
    {
     "name": "stdout",
     "output_type": "stream",
     "text": [
      "11\n",
      "11\n"
     ]
    }
   ],
   "source": [
    "a=5\n",
    "b=6\n",
    "print(a+b)\n",
    "print(a.__add__(b))"
   ]
  },
  {
   "cell_type": "code",
   "execution_count": 1,
   "id": "625c81b6",
   "metadata": {},
   "outputs": [
    {
     "name": "stdout",
     "output_type": "stream",
     "text": [
      "56\n",
      "56\n"
     ]
    }
   ],
   "source": [
    "a='5'\n",
    "b='6'\n",
    "print(a+b)\n",
    "print(a.__add__(b))"
   ]
  },
  {
   "cell_type": "markdown",
   "id": "9dfa6fd4",
   "metadata": {},
   "source": [
    "Real Example"
   ]
  },
  {
   "cell_type": "code",
   "execution_count": 5,
   "id": "5ccd10e0",
   "metadata": {},
   "outputs": [
    {
     "name": "stdout",
     "output_type": "stream",
     "text": [
      "s3 data :-  118 134\n",
      "1st :- 127\n",
      "2nd :- 125\n",
      "S1 Win\n"
     ]
    }
   ],
   "source": [
    "class Student:\n",
    "    def __init__(self,m1,m2):\n",
    "        self.m1=m1\n",
    "        self.m2=m2\n",
    "    def __add__(self,other):\n",
    "        m1=self.m1+other.m1\n",
    "        m2=self.m2+other.m2\n",
    "        s3=Student(m1,m2)\n",
    "        return s3\n",
    "    \n",
    "    def __gt__(self,other):\n",
    "        r1=self.m1+self.m2\n",
    "        r2=other.m1+other.m2\n",
    "        print(\"1st :- {}\".format(r1))\n",
    "        print(\"2nd :- {}\".format(r2))\n",
    "        \n",
    "        # New way to write if else block\n",
    "        return True if r1>r2 else False\n",
    "\n",
    "s1=Student(58,69)\n",
    "s2=Student(60,65)\n",
    "s3=s1+s2\n",
    "print(\"s3 data :- \", s3.m1,s3.m2)\n",
    "if s1>s2:\n",
    "    print(\"S1 Win\")\n",
    "else:\n",
    "    print(\"S2 Win\")"
   ]
  },
  {
   "cell_type": "markdown",
   "id": "02a11b7e",
   "metadata": {},
   "source": [
    "Eg"
   ]
  },
  {
   "cell_type": "markdown",
   "id": "f056d498",
   "metadata": {},
   "source": [
    "####  Different between` __str__ ()`and `__repr__()`"
   ]
  },
  {
   "cell_type": "code",
   "execution_count": 102,
   "id": "71c511af",
   "metadata": {},
   "outputs": [
    {
     "name": "stdout",
     "output_type": "stream",
     "text": [
      "12 , 43\n"
     ]
    },
    {
     "data": {
      "text/plain": [
       "<__main__.Student at 0x155087d41f0>"
      ]
     },
     "execution_count": 102,
     "metadata": {},
     "output_type": "execute_result"
    }
   ],
   "source": [
    "class Student:\n",
    "    def __init__(self,m1,m2):\n",
    "        self.m1=m1\n",
    "        self.m2=m2\n",
    "    def __str__(self):\n",
    "        return \"{} , {}\".format(self.m1,self.m2)\n",
    "s1=Student(12,43)\n",
    "print(s1)\n",
    "s1"
   ]
  },
  {
   "cell_type": "code",
   "execution_count": 103,
   "id": "a36b1dd1",
   "metadata": {},
   "outputs": [
    {
     "name": "stdout",
     "output_type": "stream",
     "text": [
      "12 , 43\n"
     ]
    },
    {
     "data": {
      "text/plain": [
       "12 , 43"
      ]
     },
     "execution_count": 103,
     "metadata": {},
     "output_type": "execute_result"
    }
   ],
   "source": [
    "class Student:\n",
    "    def __init__(self,m1,m2):\n",
    "        self.m1=m1\n",
    "        self.m2=m2\n",
    "    def __repr__(self):\n",
    "        return \"{} , {}\".format(self.m1,self.m2)\n",
    "s1=Student(12,43)\n",
    "print(s1)\n",
    "s1"
   ]
  },
  {
   "cell_type": "markdown",
   "id": "b7d26b5b",
   "metadata": {},
   "source": [
    "### Method Overloading\n",
    "\n",
    "- Method overloading is not dirrectly support by Python\n",
    "- So we have to do indirectly Method Overloading."
   ]
  },
  {
   "cell_type": "code",
   "execution_count": 11,
   "id": "de313f00",
   "metadata": {},
   "outputs": [],
   "source": [
    "class Student:\n",
    "    def sum(self,a=None,b=None,c=None):\n",
    "        s=0\n",
    "        if a!=None and b!=None and c!=None:\n",
    "            s=a+b+c\n",
    "        elif a!=None and b!=None:\n",
    "            s=a+b\n",
    "        elif a!=None:\n",
    "            s=a\n",
    "        return s\n",
    " \n",
    "s=Student()"
   ]
  },
  {
   "cell_type": "code",
   "execution_count": 12,
   "id": "c41c4391",
   "metadata": {},
   "outputs": [
    {
     "name": "stdout",
     "output_type": "stream",
     "text": [
      "6\n"
     ]
    }
   ],
   "source": [
    "print(s.sum(1,2,3))"
   ]
  },
  {
   "cell_type": "code",
   "execution_count": 13,
   "id": "e19ac421",
   "metadata": {},
   "outputs": [
    {
     "name": "stdout",
     "output_type": "stream",
     "text": [
      "3\n"
     ]
    }
   ],
   "source": [
    "print(s.sum(1,2))"
   ]
  },
  {
   "cell_type": "code",
   "execution_count": 14,
   "id": "c0c8a15c",
   "metadata": {},
   "outputs": [
    {
     "name": "stdout",
     "output_type": "stream",
     "text": [
      "1\n"
     ]
    }
   ],
   "source": [
    "print(s.sum(1))"
   ]
  },
  {
   "cell_type": "markdown",
   "id": "ca100a72",
   "metadata": {},
   "source": [
    "### Method Overridng\n",
    "\n",
    "- If sub_class don't have method that has been called then it prefer method of super_class.\n",
    "- But if sub_class have that method, then it prefer method of itself class."
   ]
  },
  {
   "cell_type": "code",
   "execution_count": 15,
   "id": "6e82e08d",
   "metadata": {},
   "outputs": [
    {
     "name": "stdout",
     "output_type": "stream",
     "text": [
      "I am from class B\n",
      "This is Info of Class A\n"
     ]
    }
   ],
   "source": [
    "class A:\n",
    "    def show(self):\n",
    "        print(\"I am from A Class\")\n",
    "    def info(self):\n",
    "        print(\"This is Info of Class A\")\n",
    "class B(A):\n",
    "    def show(self):\n",
    "        print(\"I am from class B\")\n",
    "        \n",
    "b=B()\n",
    "b.show()\n",
    "b.info()"
   ]
  },
  {
   "cell_type": "markdown",
   "id": "6ad90bb5",
   "metadata": {},
   "source": [
    "Used of Magic Method"
   ]
  },
  {
   "cell_type": "code",
   "execution_count": 16,
   "id": "b9539c24",
   "metadata": {},
   "outputs": [
    {
     "name": "stdout",
     "output_type": "stream",
     "text": [
      "Monis\n",
      "-----\n",
      "Momin\n"
     ]
    }
   ],
   "source": [
    "class String:\n",
    "    def __init__(self,cont):\n",
    "        self.cont=cont\n",
    "    def __truediv__(self,other):\n",
    "        line=\"-\"*len(other.cont)\n",
    "        return \"\\n\".join([self.cont,line,other.cont])\n",
    "s1=String(\"Monis\")\n",
    "s2=String(\"Momin\")\n",
    "print(s1/s2)"
   ]
  },
  {
   "cell_type": "markdown",
   "id": "93ccb255",
   "metadata": {},
   "source": [
    "# _Data Hinding_\n"
   ]
  },
  {
   "cell_type": "markdown",
   "id": "2b491e1d",
   "metadata": {},
   "source": [
    "###  Weakly Private\n",
    "\n",
    "\n",
    "- Wealy private method & attribute have Single underscore at the beginning.\n",
    "- They shouldn't be used by external code \n",
    "- It acutal effect is that ` from module _name import * ` want import variables that start with a single underscore."
   ]
  },
  {
   "cell_type": "code",
   "execution_count": 136,
   "id": "101afeb2",
   "metadata": {},
   "outputs": [],
   "source": [
    "class que:\n",
    "    def __init__(self,content):\n",
    "        self._hiddentList=list(content)\n",
    "    def push(self,value):\n",
    "        self._hiddentList.insert(0,value)\n",
    "    def pop(self):\n",
    "        return self._hiddentList.pop(-1)\n",
    "    def __repr__(self):\n",
    "        return \"Que({})\".format(self._hiddentList)\n",
    "qu=que([1,2,3])\n"
   ]
  },
  {
   "cell_type": "code",
   "execution_count": 137,
   "id": "885b3e6a",
   "metadata": {
    "scrolled": true
   },
   "outputs": [
    {
     "name": "stdout",
     "output_type": "stream",
     "text": [
      "Que([1, 2, 3])\n"
     ]
    }
   ],
   "source": [
    "print(qu)\n"
   ]
  },
  {
   "cell_type": "code",
   "execution_count": 138,
   "id": "0c760b55",
   "metadata": {},
   "outputs": [],
   "source": [
    "qu.push(10)"
   ]
  },
  {
   "cell_type": "code",
   "execution_count": 139,
   "id": "f4927e1d",
   "metadata": {},
   "outputs": [
    {
     "data": {
      "text/plain": [
       "Que([10, 1, 2, 3])"
      ]
     },
     "execution_count": 139,
     "metadata": {},
     "output_type": "execute_result"
    }
   ],
   "source": [
    "qu"
   ]
  },
  {
   "cell_type": "code",
   "execution_count": 140,
   "id": "f8f49f03",
   "metadata": {},
   "outputs": [
    {
     "data": {
      "text/plain": [
       "3"
      ]
     },
     "execution_count": 140,
     "metadata": {},
     "output_type": "execute_result"
    }
   ],
   "source": [
    "qu.pop()"
   ]
  },
  {
   "cell_type": "code",
   "execution_count": 141,
   "id": "e9363ee1",
   "metadata": {},
   "outputs": [
    {
     "data": {
      "text/plain": [
       "Que([10, 1, 2])"
      ]
     },
     "execution_count": 141,
     "metadata": {},
     "output_type": "execute_result"
    }
   ],
   "source": [
    "qu"
   ]
  },
  {
   "cell_type": "code",
   "execution_count": 143,
   "id": "d062c662",
   "metadata": {},
   "outputs": [
    {
     "name": "stdout",
     "output_type": "stream",
     "text": [
      "[10, 1, 2]\n"
     ]
    }
   ],
   "source": [
    "print(qu._hiddentList)"
   ]
  },
  {
   "cell_type": "markdown",
   "id": "bfba7f35",
   "metadata": {},
   "source": [
    "### Strongly Private Method \n",
    "\n",
    "- Attribute have double underscore at the beginning of their name.\n",
    "- These cause their names to be mangled,which mean that they can't be accessed from outside of class\n",
    "- It purpose to avoid bugs if there is subclass that have method/attributes with same name."
   ]
  },
  {
   "cell_type": "code",
   "execution_count": 2,
   "id": "69c78605",
   "metadata": {},
   "outputs": [
    {
     "name": "stdout",
     "output_type": "stream",
     "text": [
      "7\n"
     ]
    }
   ],
   "source": [
    "class spam:\n",
    "    __egg=7\n",
    "    def print_egg(self):\n",
    "        print(self.__egg)\n",
    "s=spam()\n",
    "s.print_egg()"
   ]
  },
  {
   "cell_type": "markdown",
   "id": "616323cf",
   "metadata": {},
   "source": [
    "With this way,we can accessed attribute of class from outside"
   ]
  },
  {
   "cell_type": "code",
   "execution_count": 3,
   "id": "e2508e38",
   "metadata": {},
   "outputs": [
    {
     "name": "stdout",
     "output_type": "stream",
     "text": [
      "7\n"
     ]
    }
   ],
   "source": [
    "print(s._spam__egg)"
   ]
  },
  {
   "cell_type": "markdown",
   "id": "3fac9320",
   "metadata": {},
   "source": [
    "This waya is not allowed because , it is strongly private"
   ]
  },
  {
   "cell_type": "code",
   "execution_count": 4,
   "id": "76099760",
   "metadata": {
    "scrolled": true
   },
   "outputs": [
    {
     "ename": "AttributeError",
     "evalue": "'spam' object has no attribute '__egg'",
     "output_type": "error",
     "traceback": [
      "\u001b[1;31m---------------------------------------------------------------------------\u001b[0m",
      "\u001b[1;31mAttributeError\u001b[0m                            Traceback (most recent call last)",
      "Cell \u001b[1;32mIn[4], line 1\u001b[0m\n\u001b[1;32m----> 1\u001b[0m \u001b[38;5;28mprint\u001b[39m(\u001b[43ms\u001b[49m\u001b[38;5;241;43m.\u001b[39;49m\u001b[43m__egg\u001b[49m)\n",
      "\u001b[1;31mAttributeError\u001b[0m: 'spam' object has no attribute '__egg'"
     ]
    }
   ],
   "source": [
    "print(s.__egg)"
   ]
  },
  {
   "cell_type": "markdown",
   "id": "c6c922f8",
   "metadata": {},
   "source": [
    "####  Class Method"
   ]
  },
  {
   "cell_type": "code",
   "execution_count": 10,
   "id": "261d89a2",
   "metadata": {},
   "outputs": [
    {
     "data": {
      "text/plain": [
       "25"
      ]
     },
     "execution_count": 10,
     "metadata": {},
     "output_type": "execute_result"
    }
   ],
   "source": [
    "class rectangle:\n",
    "    def __init__(self,length,width):\n",
    "        self.length=length\n",
    "        self.width=width\n",
    "        \n",
    "    def cal_area(self):\n",
    "        return self.length*self.width\n",
    "    @classmethod\n",
    "    def square(cls,s):\n",
    "        return cls(s,s)\n",
    "    \n",
    "sq=rectangle.square(5)   \n",
    "sq.cal_area()"
   ]
  },
  {
   "cell_type": "markdown",
   "id": "64b38a6a",
   "metadata": {},
   "source": [
    "#  _Properties_\n",
    "\n",
    "- It provide a way to customizing access to instance attribute.\n",
    "- It make an attribute read-able\n",
    "- It created by `property decorator`\n",
    "- While using properites, then don't use parenthesis while call method"
   ]
  },
  {
   "cell_type": "markdown",
   "id": "1563816b",
   "metadata": {},
   "source": [
    "Eg -"
   ]
  },
  {
   "cell_type": "code",
   "execution_count": 13,
   "id": "84e38cea",
   "metadata": {},
   "outputs": [
    {
     "name": "stdout",
     "output_type": "stream",
     "text": [
      "False\n",
      "True\n",
      "True\n"
     ]
    }
   ],
   "source": [
    "class person:\n",
    "    def __init__(self,age):\n",
    "        self.age=int(age)\n",
    "        \n",
    "    @property\n",
    "    def isadult(self):\n",
    "        if self.age>=18:\n",
    "            return True\n",
    "        else:\n",
    "            return False\n",
    "p=person(12)\n",
    "s=person(18)\n",
    "q=person(21)\n",
    "\n",
    "print(p.isadult)\n",
    "print(s.isadult)\n",
    "print(q.isadult)"
   ]
  },
  {
   "cell_type": "markdown",
   "id": "16ba07af",
   "metadata": {},
   "source": [
    "Eg : Without Properties"
   ]
  },
  {
   "cell_type": "code",
   "execution_count": 6,
   "id": "e00a8552",
   "metadata": {},
   "outputs": [
    {
     "name": "stdout",
     "output_type": "stream",
     "text": [
      "monis\n",
      "momin\n",
      "monis.momin@gmail.com\n",
      "monis momin\n",
      "\n",
      "\n",
      "Muin\n",
      "monis.momin@gmail.com\n",
      "monis momin\n"
     ]
    }
   ],
   "source": [
    "class employee:\n",
    "    def __init__(self,first,last):\n",
    "        self.first=first\n",
    "        self.last=last\n",
    "        self.email=first+'.'+last+'@gmail.com'\n",
    "    def fullname(self):\n",
    "        return \"{} {}\".format(self.first,self.last)\n",
    "    \n",
    "e=employee(\"monis\",'momin')    \n",
    "print(e.first)\n",
    "print(e.last)\n",
    "print(e.email)\n",
    "print(e.fullname())\n",
    "\n",
    "e.name=\"Muin\"\n",
    "print('\\n')\n",
    "\n",
    "print(e.name)\n",
    "print(e.email)            # This is not get modifyied\n",
    "print(e.fullname())  "
   ]
  },
  {
   "cell_type": "markdown",
   "id": "01047a66",
   "metadata": {},
   "source": [
    "Eg : With Properties"
   ]
  },
  {
   "cell_type": "code",
   "execution_count": 9,
   "id": "053e6ebd",
   "metadata": {},
   "outputs": [
    {
     "name": "stdout",
     "output_type": "stream",
     "text": [
      "Monis\n",
      "Monis Momin\n",
      "\n",
      "\n",
      "Muin\n",
      "Muin Momin\n"
     ]
    }
   ],
   "source": [
    "class student:\n",
    "    def __init__(self,first,last):\n",
    "        self.first=first\n",
    "        self.last=last\n",
    "    \n",
    "    @property\n",
    "    def fullname(self):\n",
    "        return \"{} {}\".format(self.first,self.last)\n",
    "    \n",
    "s=student(\"Monis\",\"Momin\")    \n",
    "print(s.first)\n",
    "print(s.fullname)\n",
    "\n",
    "print('\\n')\n",
    "s.first=\"Muin\"\n",
    "\n",
    "print(s.first)\n",
    "print(s.fullname)"
   ]
  },
  {
   "cell_type": "markdown",
   "id": "86fe55bd",
   "metadata": {},
   "source": [
    "####  Use of setter and deleter"
   ]
  },
  {
   "cell_type": "code",
   "execution_count": 29,
   "id": "9953e830",
   "metadata": {},
   "outputs": [
    {
     "name": "stdout",
     "output_type": "stream",
     "text": [
      "Monis\n",
      "monis.momin@gamil.com\n",
      "monis momin\n",
      "\n",
      "\n",
      "Muin\n",
      "Muin Momin\n",
      "\n",
      "\n",
      "Name has been updated\n",
      "Asad\n",
      "Asad Vathare\n",
      "\n",
      "\n",
      "Name has been deleted\n"
     ]
    }
   ],
   "source": [
    "class Student:\n",
    "    def __init__(self,first,last):\n",
    "        self.first=first\n",
    "        self.last=last\n",
    "    @property\n",
    "    def email(self):\n",
    "        return \"{}.{}@gamil.com\".format(self.first.lower(),self.last.lower())\n",
    "    \n",
    "    @property\n",
    "    def fullname(self):\n",
    "        return \"{} {}\".format(self.first,self.last)\n",
    "    \n",
    "    @fullname.setter\n",
    "    def fullname(self,name):\n",
    "        f,l=name.split()\n",
    "        self.first=f\n",
    "        self.last=l\n",
    "        print(\"Name has been updated\")\n",
    "        \n",
    "    @fullname.deleter\n",
    "    def fullname(self):\n",
    "        print(\"Name has been deleted\")\n",
    "        self.first=None\n",
    "        self.last=None\n",
    "s=Student(\"Monis\",\"Momin\")\n",
    "print(s.first)\n",
    "print(s.email)\n",
    "print(e.fullname())\n",
    "\n",
    "print(\"\\n\")\n",
    "\n",
    "# Manula change name\n",
    "s.first=\"Muin\"    \n",
    "print(s.first)\n",
    "print(s.fullname)\n",
    "\n",
    "print('\\n')\n",
    "\n",
    "#Change name with Property\n",
    "s.fullname=\"Asad Vathare\"\n",
    "print(s.first)\n",
    "print(s.fullname)\n",
    "\n",
    "print('\\n')\n",
    "\n",
    "# Delete name \n",
    "del s.fullname"
   ]
  }
 ],
 "metadata": {
  "kernelspec": {
   "display_name": "Python 3 (ipykernel)",
   "language": "python",
   "name": "python3"
  },
  "language_info": {
   "codemirror_mode": {
    "name": "ipython",
    "version": 3
   },
   "file_extension": ".py",
   "mimetype": "text/x-python",
   "name": "python",
   "nbconvert_exporter": "python",
   "pygments_lexer": "ipython3",
   "version": "3.10.7"
  }
 },
 "nbformat": 4,
 "nbformat_minor": 5
}
